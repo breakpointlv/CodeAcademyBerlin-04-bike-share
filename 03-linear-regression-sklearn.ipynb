{
 "cells": [
  {
   "cell_type": "code",
   "execution_count": 203,
   "metadata": {
    "collapsed": true
   },
   "outputs": [
    {
     "name": "stdout",
     "output_type": "stream",
     "text": [
      "The autoreload extension is already loaded. To reload it, use:\n",
      "  %reload_ext autoreload\n"
     ]
    }
   ],
   "source": [
    "%load_ext autoreload\n",
    "%autoreload 2\n"
   ]
  },
  {
   "cell_type": "markdown",
   "source": [
    "# 1. Regression with SKLearn"
   ],
   "metadata": {
    "collapsed": false
   }
  },
  {
   "cell_type": "code",
   "execution_count": 3,
   "outputs": [
    {
     "name": "stderr",
     "output_type": "stream",
     "text": [
      "/home/user/dev/CodeAcademyBerlin-04-bike-share/bike_regression.py:70: DataConversionWarning: A column-vector y was passed when a 1d array was expected. Please change the shape of y to (n_samples, ), for example using ravel().\n",
      "  self.y_train = column_or_1d(self.y_train, warn=True)\n",
      "/home/user/dev/CodeAcademyBerlin-04-bike-share/bike_regression.py:71: DataConversionWarning: A column-vector y was passed when a 1d array was expected. Please change the shape of y to (n_samples, ), for example using ravel().\n",
      "  self.y_test = column_or_1d(self.y_test, warn=True)\n",
      "/home/user/dev/CodeAcademyBerlin-04-bike-share/bike_regression.py:70: DataConversionWarning: A column-vector y was passed when a 1d array was expected. Please change the shape of y to (n_samples, ), for example using ravel().\n",
      "  self.y_train = column_or_1d(self.y_train, warn=True)\n",
      "/home/user/dev/CodeAcademyBerlin-04-bike-share/bike_regression.py:71: DataConversionWarning: A column-vector y was passed when a 1d array was expected. Please change the shape of y to (n_samples, ), for example using ravel().\n",
      "  self.y_test = column_or_1d(self.y_test, warn=True)\n"
     ]
    },
    {
     "name": "stdout",
     "output_type": "stream",
     "text": [
      "1/77\n",
      "2/77\n"
     ]
    },
    {
     "name": "stderr",
     "output_type": "stream",
     "text": [
      "/home/user/dev/CodeAcademyBerlin-04-bike-share/bike_regression.py:70: DataConversionWarning: A column-vector y was passed when a 1d array was expected. Please change the shape of y to (n_samples, ), for example using ravel().\n",
      "  self.y_train = column_or_1d(self.y_train, warn=True)\n",
      "/home/user/dev/CodeAcademyBerlin-04-bike-share/bike_regression.py:71: DataConversionWarning: A column-vector y was passed when a 1d array was expected. Please change the shape of y to (n_samples, ), for example using ravel().\n",
      "  self.y_test = column_or_1d(self.y_test, warn=True)\n",
      "/home/user/dev/CodeAcademyBerlin-04-bike-share/bike_regression.py:70: DataConversionWarning: A column-vector y was passed when a 1d array was expected. Please change the shape of y to (n_samples, ), for example using ravel().\n",
      "  self.y_train = column_or_1d(self.y_train, warn=True)\n",
      "/home/user/dev/CodeAcademyBerlin-04-bike-share/bike_regression.py:71: DataConversionWarning: A column-vector y was passed when a 1d array was expected. Please change the shape of y to (n_samples, ), for example using ravel().\n",
      "  self.y_test = column_or_1d(self.y_test, warn=True)\n"
     ]
    },
    {
     "name": "stdout",
     "output_type": "stream",
     "text": [
      "3/77\n",
      "4/77\n"
     ]
    },
    {
     "name": "stderr",
     "output_type": "stream",
     "text": [
      "/home/user/dev/CodeAcademyBerlin-04-bike-share/bike_regression.py:70: DataConversionWarning: A column-vector y was passed when a 1d array was expected. Please change the shape of y to (n_samples, ), for example using ravel().\n",
      "  self.y_train = column_or_1d(self.y_train, warn=True)\n",
      "/home/user/dev/CodeAcademyBerlin-04-bike-share/bike_regression.py:71: DataConversionWarning: A column-vector y was passed when a 1d array was expected. Please change the shape of y to (n_samples, ), for example using ravel().\n",
      "  self.y_test = column_or_1d(self.y_test, warn=True)\n",
      "/home/user/dev/CodeAcademyBerlin-04-bike-share/bike_regression.py:70: DataConversionWarning: A column-vector y was passed when a 1d array was expected. Please change the shape of y to (n_samples, ), for example using ravel().\n",
      "  self.y_train = column_or_1d(self.y_train, warn=True)\n",
      "/home/user/dev/CodeAcademyBerlin-04-bike-share/bike_regression.py:71: DataConversionWarning: A column-vector y was passed when a 1d array was expected. Please change the shape of y to (n_samples, ), for example using ravel().\n",
      "  self.y_test = column_or_1d(self.y_test, warn=True)\n"
     ]
    },
    {
     "name": "stdout",
     "output_type": "stream",
     "text": [
      "5/77\n",
      "6/77\n"
     ]
    },
    {
     "name": "stderr",
     "output_type": "stream",
     "text": [
      "/home/user/dev/CodeAcademyBerlin-04-bike-share/bike_regression.py:70: DataConversionWarning: A column-vector y was passed when a 1d array was expected. Please change the shape of y to (n_samples, ), for example using ravel().\n",
      "  self.y_train = column_or_1d(self.y_train, warn=True)\n",
      "/home/user/dev/CodeAcademyBerlin-04-bike-share/bike_regression.py:71: DataConversionWarning: A column-vector y was passed when a 1d array was expected. Please change the shape of y to (n_samples, ), for example using ravel().\n",
      "  self.y_test = column_or_1d(self.y_test, warn=True)\n",
      "/home/user/dev/CodeAcademyBerlin-04-bike-share/bike_regression.py:70: DataConversionWarning: A column-vector y was passed when a 1d array was expected. Please change the shape of y to (n_samples, ), for example using ravel().\n",
      "  self.y_train = column_or_1d(self.y_train, warn=True)\n",
      "/home/user/dev/CodeAcademyBerlin-04-bike-share/bike_regression.py:71: DataConversionWarning: A column-vector y was passed when a 1d array was expected. Please change the shape of y to (n_samples, ), for example using ravel().\n",
      "  self.y_test = column_or_1d(self.y_test, warn=True)\n"
     ]
    },
    {
     "name": "stdout",
     "output_type": "stream",
     "text": [
      "7/77\n",
      "8/77\n"
     ]
    },
    {
     "name": "stderr",
     "output_type": "stream",
     "text": [
      "/home/user/dev/CodeAcademyBerlin-04-bike-share/bike_regression.py:70: DataConversionWarning: A column-vector y was passed when a 1d array was expected. Please change the shape of y to (n_samples, ), for example using ravel().\n",
      "  self.y_train = column_or_1d(self.y_train, warn=True)\n",
      "/home/user/dev/CodeAcademyBerlin-04-bike-share/bike_regression.py:71: DataConversionWarning: A column-vector y was passed when a 1d array was expected. Please change the shape of y to (n_samples, ), for example using ravel().\n",
      "  self.y_test = column_or_1d(self.y_test, warn=True)\n",
      "/home/user/dev/CodeAcademyBerlin-04-bike-share/bike_regression.py:70: DataConversionWarning: A column-vector y was passed when a 1d array was expected. Please change the shape of y to (n_samples, ), for example using ravel().\n",
      "  self.y_train = column_or_1d(self.y_train, warn=True)\n",
      "/home/user/dev/CodeAcademyBerlin-04-bike-share/bike_regression.py:71: DataConversionWarning: A column-vector y was passed when a 1d array was expected. Please change the shape of y to (n_samples, ), for example using ravel().\n",
      "  self.y_test = column_or_1d(self.y_test, warn=True)\n"
     ]
    },
    {
     "name": "stdout",
     "output_type": "stream",
     "text": [
      "9/77\n",
      "10/77\n"
     ]
    },
    {
     "name": "stderr",
     "output_type": "stream",
     "text": [
      "/home/user/dev/CodeAcademyBerlin-04-bike-share/bike_regression.py:70: DataConversionWarning: A column-vector y was passed when a 1d array was expected. Please change the shape of y to (n_samples, ), for example using ravel().\n",
      "  self.y_train = column_or_1d(self.y_train, warn=True)\n",
      "/home/user/dev/CodeAcademyBerlin-04-bike-share/bike_regression.py:71: DataConversionWarning: A column-vector y was passed when a 1d array was expected. Please change the shape of y to (n_samples, ), for example using ravel().\n",
      "  self.y_test = column_or_1d(self.y_test, warn=True)\n",
      "/home/user/dev/CodeAcademyBerlin-04-bike-share/bike_regression.py:70: DataConversionWarning: A column-vector y was passed when a 1d array was expected. Please change the shape of y to (n_samples, ), for example using ravel().\n",
      "  self.y_train = column_or_1d(self.y_train, warn=True)\n",
      "/home/user/dev/CodeAcademyBerlin-04-bike-share/bike_regression.py:71: DataConversionWarning: A column-vector y was passed when a 1d array was expected. Please change the shape of y to (n_samples, ), for example using ravel().\n",
      "  self.y_test = column_or_1d(self.y_test, warn=True)\n"
     ]
    },
    {
     "name": "stdout",
     "output_type": "stream",
     "text": [
      "11/77\n",
      "12/77\n"
     ]
    },
    {
     "name": "stderr",
     "output_type": "stream",
     "text": [
      "/home/user/dev/CodeAcademyBerlin-04-bike-share/bike_regression.py:70: DataConversionWarning: A column-vector y was passed when a 1d array was expected. Please change the shape of y to (n_samples, ), for example using ravel().\n",
      "  self.y_train = column_or_1d(self.y_train, warn=True)\n",
      "/home/user/dev/CodeAcademyBerlin-04-bike-share/bike_regression.py:71: DataConversionWarning: A column-vector y was passed when a 1d array was expected. Please change the shape of y to (n_samples, ), for example using ravel().\n",
      "  self.y_test = column_or_1d(self.y_test, warn=True)\n",
      "/home/user/anaconda3/envs/env310/lib/python3.10/site-packages/sklearn/linear_model/_ridge.py:216: LinAlgWarning: Ill-conditioned matrix (rcond=1.53139e-17): result may not be accurate.\n",
      "  return linalg.solve(A, Xy, assume_a=\"pos\", overwrite_a=True).T\n",
      "/home/user/dev/CodeAcademyBerlin-04-bike-share/bike_regression.py:70: DataConversionWarning: A column-vector y was passed when a 1d array was expected. Please change the shape of y to (n_samples, ), for example using ravel().\n",
      "  self.y_train = column_or_1d(self.y_train, warn=True)\n",
      "/home/user/dev/CodeAcademyBerlin-04-bike-share/bike_regression.py:71: DataConversionWarning: A column-vector y was passed when a 1d array was expected. Please change the shape of y to (n_samples, ), for example using ravel().\n",
      "  self.y_test = column_or_1d(self.y_test, warn=True)\n"
     ]
    },
    {
     "name": "stdout",
     "output_type": "stream",
     "text": [
      "13/77\n",
      "14/77\n"
     ]
    },
    {
     "name": "stderr",
     "output_type": "stream",
     "text": [
      "/home/user/anaconda3/envs/env310/lib/python3.10/site-packages/sklearn/linear_model/_ridge.py:216: LinAlgWarning: Ill-conditioned matrix (rcond=2.14436e-20): result may not be accurate.\n",
      "  return linalg.solve(A, Xy, assume_a=\"pos\", overwrite_a=True).T\n",
      "/home/user/dev/CodeAcademyBerlin-04-bike-share/bike_regression.py:70: DataConversionWarning: A column-vector y was passed when a 1d array was expected. Please change the shape of y to (n_samples, ), for example using ravel().\n",
      "  self.y_train = column_or_1d(self.y_train, warn=True)\n",
      "/home/user/dev/CodeAcademyBerlin-04-bike-share/bike_regression.py:71: DataConversionWarning: A column-vector y was passed when a 1d array was expected. Please change the shape of y to (n_samples, ), for example using ravel().\n",
      "  self.y_test = column_or_1d(self.y_test, warn=True)\n"
     ]
    },
    {
     "name": "stdout",
     "output_type": "stream",
     "text": [
      "15/77\n",
      "16/77\n"
     ]
    },
    {
     "name": "stderr",
     "output_type": "stream",
     "text": [
      "/home/user/dev/CodeAcademyBerlin-04-bike-share/bike_regression.py:70: DataConversionWarning: A column-vector y was passed when a 1d array was expected. Please change the shape of y to (n_samples, ), for example using ravel().\n",
      "  self.y_train = column_or_1d(self.y_train, warn=True)\n",
      "/home/user/dev/CodeAcademyBerlin-04-bike-share/bike_regression.py:71: DataConversionWarning: A column-vector y was passed when a 1d array was expected. Please change the shape of y to (n_samples, ), for example using ravel().\n",
      "  self.y_test = column_or_1d(self.y_test, warn=True)\n",
      "/home/user/dev/CodeAcademyBerlin-04-bike-share/bike_regression.py:70: DataConversionWarning: A column-vector y was passed when a 1d array was expected. Please change the shape of y to (n_samples, ), for example using ravel().\n",
      "  self.y_train = column_or_1d(self.y_train, warn=True)\n",
      "/home/user/dev/CodeAcademyBerlin-04-bike-share/bike_regression.py:71: DataConversionWarning: A column-vector y was passed when a 1d array was expected. Please change the shape of y to (n_samples, ), for example using ravel().\n",
      "  self.y_test = column_or_1d(self.y_test, warn=True)\n"
     ]
    },
    {
     "name": "stdout",
     "output_type": "stream",
     "text": [
      "17/77\n",
      "18/77\n"
     ]
    },
    {
     "name": "stderr",
     "output_type": "stream",
     "text": [
      "/home/user/dev/CodeAcademyBerlin-04-bike-share/bike_regression.py:70: DataConversionWarning: A column-vector y was passed when a 1d array was expected. Please change the shape of y to (n_samples, ), for example using ravel().\n",
      "  self.y_train = column_or_1d(self.y_train, warn=True)\n",
      "/home/user/dev/CodeAcademyBerlin-04-bike-share/bike_regression.py:71: DataConversionWarning: A column-vector y was passed when a 1d array was expected. Please change the shape of y to (n_samples, ), for example using ravel().\n",
      "  self.y_test = column_or_1d(self.y_test, warn=True)\n",
      "/home/user/dev/CodeAcademyBerlin-04-bike-share/bike_regression.py:70: DataConversionWarning: A column-vector y was passed when a 1d array was expected. Please change the shape of y to (n_samples, ), for example using ravel().\n",
      "  self.y_train = column_or_1d(self.y_train, warn=True)\n",
      "/home/user/dev/CodeAcademyBerlin-04-bike-share/bike_regression.py:71: DataConversionWarning: A column-vector y was passed when a 1d array was expected. Please change the shape of y to (n_samples, ), for example using ravel().\n",
      "  self.y_test = column_or_1d(self.y_test, warn=True)\n"
     ]
    },
    {
     "name": "stdout",
     "output_type": "stream",
     "text": [
      "19/77\n",
      "20/77\n"
     ]
    },
    {
     "name": "stderr",
     "output_type": "stream",
     "text": [
      "/home/user/dev/CodeAcademyBerlin-04-bike-share/bike_regression.py:70: DataConversionWarning: A column-vector y was passed when a 1d array was expected. Please change the shape of y to (n_samples, ), for example using ravel().\n",
      "  self.y_train = column_or_1d(self.y_train, warn=True)\n",
      "/home/user/dev/CodeAcademyBerlin-04-bike-share/bike_regression.py:71: DataConversionWarning: A column-vector y was passed when a 1d array was expected. Please change the shape of y to (n_samples, ), for example using ravel().\n",
      "  self.y_test = column_or_1d(self.y_test, warn=True)\n",
      "/home/user/dev/CodeAcademyBerlin-04-bike-share/bike_regression.py:70: DataConversionWarning: A column-vector y was passed when a 1d array was expected. Please change the shape of y to (n_samples, ), for example using ravel().\n",
      "  self.y_train = column_or_1d(self.y_train, warn=True)\n",
      "/home/user/dev/CodeAcademyBerlin-04-bike-share/bike_regression.py:71: DataConversionWarning: A column-vector y was passed when a 1d array was expected. Please change the shape of y to (n_samples, ), for example using ravel().\n",
      "  self.y_test = column_or_1d(self.y_test, warn=True)\n"
     ]
    },
    {
     "name": "stdout",
     "output_type": "stream",
     "text": [
      "21/77\n",
      "22/77\n"
     ]
    },
    {
     "name": "stderr",
     "output_type": "stream",
     "text": [
      "/home/user/dev/CodeAcademyBerlin-04-bike-share/bike_regression.py:70: DataConversionWarning: A column-vector y was passed when a 1d array was expected. Please change the shape of y to (n_samples, ), for example using ravel().\n",
      "  self.y_train = column_or_1d(self.y_train, warn=True)\n",
      "/home/user/dev/CodeAcademyBerlin-04-bike-share/bike_regression.py:71: DataConversionWarning: A column-vector y was passed when a 1d array was expected. Please change the shape of y to (n_samples, ), for example using ravel().\n",
      "  self.y_test = column_or_1d(self.y_test, warn=True)\n",
      "/home/user/dev/CodeAcademyBerlin-04-bike-share/bike_regression.py:70: DataConversionWarning: A column-vector y was passed when a 1d array was expected. Please change the shape of y to (n_samples, ), for example using ravel().\n",
      "  self.y_train = column_or_1d(self.y_train, warn=True)\n",
      "/home/user/dev/CodeAcademyBerlin-04-bike-share/bike_regression.py:71: DataConversionWarning: A column-vector y was passed when a 1d array was expected. Please change the shape of y to (n_samples, ), for example using ravel().\n",
      "  self.y_test = column_or_1d(self.y_test, warn=True)\n"
     ]
    },
    {
     "name": "stdout",
     "output_type": "stream",
     "text": [
      "23/77\n",
      "24/77\n"
     ]
    },
    {
     "name": "stderr",
     "output_type": "stream",
     "text": [
      "/home/user/dev/CodeAcademyBerlin-04-bike-share/bike_regression.py:70: DataConversionWarning: A column-vector y was passed when a 1d array was expected. Please change the shape of y to (n_samples, ), for example using ravel().\n",
      "  self.y_train = column_or_1d(self.y_train, warn=True)\n",
      "/home/user/dev/CodeAcademyBerlin-04-bike-share/bike_regression.py:71: DataConversionWarning: A column-vector y was passed when a 1d array was expected. Please change the shape of y to (n_samples, ), for example using ravel().\n",
      "  self.y_test = column_or_1d(self.y_test, warn=True)\n",
      "/home/user/dev/CodeAcademyBerlin-04-bike-share/bike_regression.py:70: DataConversionWarning: A column-vector y was passed when a 1d array was expected. Please change the shape of y to (n_samples, ), for example using ravel().\n",
      "  self.y_train = column_or_1d(self.y_train, warn=True)\n",
      "/home/user/dev/CodeAcademyBerlin-04-bike-share/bike_regression.py:71: DataConversionWarning: A column-vector y was passed when a 1d array was expected. Please change the shape of y to (n_samples, ), for example using ravel().\n",
      "  self.y_test = column_or_1d(self.y_test, warn=True)\n",
      "/home/user/anaconda3/envs/env310/lib/python3.10/site-packages/sklearn/linear_model/_coordinate_descent.py:631: ConvergenceWarning: Objective did not converge. You might want to increase the number of iterations, check the scale of the features or consider increasing regularisation. Duality gap: 2.906e+08, tolerance: 9.886e+04\n",
      "  model = cd_fast.enet_coordinate_descent(\n",
      "/home/user/dev/CodeAcademyBerlin-04-bike-share/bike_regression.py:70: DataConversionWarning: A column-vector y was passed when a 1d array was expected. Please change the shape of y to (n_samples, ), for example using ravel().\n",
      "  self.y_train = column_or_1d(self.y_train, warn=True)\n",
      "/home/user/dev/CodeAcademyBerlin-04-bike-share/bike_regression.py:71: DataConversionWarning: A column-vector y was passed when a 1d array was expected. Please change the shape of y to (n_samples, ), for example using ravel().\n",
      "  self.y_test = column_or_1d(self.y_test, warn=True)\n"
     ]
    },
    {
     "name": "stdout",
     "output_type": "stream",
     "text": [
      "25/77\n"
     ]
    },
    {
     "name": "stderr",
     "output_type": "stream",
     "text": [
      "/home/user/anaconda3/envs/env310/lib/python3.10/site-packages/sklearn/linear_model/_coordinate_descent.py:631: ConvergenceWarning: Objective did not converge. You might want to increase the number of iterations, check the scale of the features or consider increasing regularisation. Duality gap: 2.861e+08, tolerance: 9.886e+04\n",
      "  model = cd_fast.enet_coordinate_descent(\n",
      "/home/user/dev/CodeAcademyBerlin-04-bike-share/bike_regression.py:70: DataConversionWarning: A column-vector y was passed when a 1d array was expected. Please change the shape of y to (n_samples, ), for example using ravel().\n",
      "  self.y_train = column_or_1d(self.y_train, warn=True)\n",
      "/home/user/dev/CodeAcademyBerlin-04-bike-share/bike_regression.py:71: DataConversionWarning: A column-vector y was passed when a 1d array was expected. Please change the shape of y to (n_samples, ), for example using ravel().\n",
      "  self.y_test = column_or_1d(self.y_test, warn=True)\n"
     ]
    },
    {
     "name": "stdout",
     "output_type": "stream",
     "text": [
      "26/77\n"
     ]
    },
    {
     "name": "stderr",
     "output_type": "stream",
     "text": [
      "/home/user/anaconda3/envs/env310/lib/python3.10/site-packages/sklearn/linear_model/_coordinate_descent.py:631: ConvergenceWarning: Objective did not converge. You might want to increase the number of iterations, check the scale of the features or consider increasing regularisation. Duality gap: 2.839e+08, tolerance: 9.886e+04\n",
      "  model = cd_fast.enet_coordinate_descent(\n"
     ]
    },
    {
     "name": "stdout",
     "output_type": "stream",
     "text": [
      "27/77\n"
     ]
    },
    {
     "name": "stderr",
     "output_type": "stream",
     "text": [
      "/home/user/dev/CodeAcademyBerlin-04-bike-share/bike_regression.py:70: DataConversionWarning: A column-vector y was passed when a 1d array was expected. Please change the shape of y to (n_samples, ), for example using ravel().\n",
      "  self.y_train = column_or_1d(self.y_train, warn=True)\n",
      "/home/user/dev/CodeAcademyBerlin-04-bike-share/bike_regression.py:71: DataConversionWarning: A column-vector y was passed when a 1d array was expected. Please change the shape of y to (n_samples, ), for example using ravel().\n",
      "  self.y_test = column_or_1d(self.y_test, warn=True)\n",
      "/home/user/anaconda3/envs/env310/lib/python3.10/site-packages/sklearn/linear_model/_coordinate_descent.py:631: ConvergenceWarning: Objective did not converge. You might want to increase the number of iterations, check the scale of the features or consider increasing regularisation. Duality gap: 2.808e+08, tolerance: 9.886e+04\n",
      "  model = cd_fast.enet_coordinate_descent(\n"
     ]
    },
    {
     "name": "stdout",
     "output_type": "stream",
     "text": [
      "28/77\n"
     ]
    },
    {
     "name": "stderr",
     "output_type": "stream",
     "text": [
      "/home/user/dev/CodeAcademyBerlin-04-bike-share/bike_regression.py:70: DataConversionWarning: A column-vector y was passed when a 1d array was expected. Please change the shape of y to (n_samples, ), for example using ravel().\n",
      "  self.y_train = column_or_1d(self.y_train, warn=True)\n",
      "/home/user/dev/CodeAcademyBerlin-04-bike-share/bike_regression.py:71: DataConversionWarning: A column-vector y was passed when a 1d array was expected. Please change the shape of y to (n_samples, ), for example using ravel().\n",
      "  self.y_test = column_or_1d(self.y_test, warn=True)\n",
      "/home/user/dev/CodeAcademyBerlin-04-bike-share/bike_regression.py:70: DataConversionWarning: A column-vector y was passed when a 1d array was expected. Please change the shape of y to (n_samples, ), for example using ravel().\n",
      "  self.y_train = column_or_1d(self.y_train, warn=True)\n",
      "/home/user/dev/CodeAcademyBerlin-04-bike-share/bike_regression.py:71: DataConversionWarning: A column-vector y was passed when a 1d array was expected. Please change the shape of y to (n_samples, ), for example using ravel().\n",
      "  self.y_test = column_or_1d(self.y_test, warn=True)\n"
     ]
    },
    {
     "name": "stdout",
     "output_type": "stream",
     "text": [
      "29/77\n",
      "30/77\n"
     ]
    },
    {
     "name": "stderr",
     "output_type": "stream",
     "text": [
      "/home/user/dev/CodeAcademyBerlin-04-bike-share/bike_regression.py:70: DataConversionWarning: A column-vector y was passed when a 1d array was expected. Please change the shape of y to (n_samples, ), for example using ravel().\n",
      "  self.y_train = column_or_1d(self.y_train, warn=True)\n",
      "/home/user/dev/CodeAcademyBerlin-04-bike-share/bike_regression.py:71: DataConversionWarning: A column-vector y was passed when a 1d array was expected. Please change the shape of y to (n_samples, ), for example using ravel().\n",
      "  self.y_test = column_or_1d(self.y_test, warn=True)\n",
      "/home/user/dev/CodeAcademyBerlin-04-bike-share/bike_regression.py:70: DataConversionWarning: A column-vector y was passed when a 1d array was expected. Please change the shape of y to (n_samples, ), for example using ravel().\n",
      "  self.y_train = column_or_1d(self.y_train, warn=True)\n",
      "/home/user/dev/CodeAcademyBerlin-04-bike-share/bike_regression.py:71: DataConversionWarning: A column-vector y was passed when a 1d array was expected. Please change the shape of y to (n_samples, ), for example using ravel().\n",
      "  self.y_test = column_or_1d(self.y_test, warn=True)\n"
     ]
    },
    {
     "name": "stdout",
     "output_type": "stream",
     "text": [
      "31/77\n"
     ]
    },
    {
     "name": "stderr",
     "output_type": "stream",
     "text": [
      "/home/user/anaconda3/envs/env310/lib/python3.10/site-packages/sklearn/linear_model/_coordinate_descent.py:631: ConvergenceWarning: Objective did not converge. You might want to increase the number of iterations, check the scale of the features or consider increasing regularisation. Duality gap: 2.891e+08, tolerance: 9.886e+04\n",
      "  model = cd_fast.enet_coordinate_descent(\n",
      "/home/user/dev/CodeAcademyBerlin-04-bike-share/bike_regression.py:70: DataConversionWarning: A column-vector y was passed when a 1d array was expected. Please change the shape of y to (n_samples, ), for example using ravel().\n",
      "  self.y_train = column_or_1d(self.y_train, warn=True)\n",
      "/home/user/dev/CodeAcademyBerlin-04-bike-share/bike_regression.py:71: DataConversionWarning: A column-vector y was passed when a 1d array was expected. Please change the shape of y to (n_samples, ), for example using ravel().\n",
      "  self.y_test = column_or_1d(self.y_test, warn=True)\n"
     ]
    },
    {
     "name": "stdout",
     "output_type": "stream",
     "text": [
      "32/77\n"
     ]
    },
    {
     "name": "stderr",
     "output_type": "stream",
     "text": [
      "/home/user/anaconda3/envs/env310/lib/python3.10/site-packages/sklearn/linear_model/_coordinate_descent.py:631: ConvergenceWarning: Objective did not converge. You might want to increase the number of iterations, check the scale of the features or consider increasing regularisation. Duality gap: 2.861e+08, tolerance: 9.886e+04\n",
      "  model = cd_fast.enet_coordinate_descent(\n",
      "/home/user/dev/CodeAcademyBerlin-04-bike-share/bike_regression.py:70: DataConversionWarning: A column-vector y was passed when a 1d array was expected. Please change the shape of y to (n_samples, ), for example using ravel().\n",
      "  self.y_train = column_or_1d(self.y_train, warn=True)\n",
      "/home/user/dev/CodeAcademyBerlin-04-bike-share/bike_regression.py:71: DataConversionWarning: A column-vector y was passed when a 1d array was expected. Please change the shape of y to (n_samples, ), for example using ravel().\n",
      "  self.y_test = column_or_1d(self.y_test, warn=True)\n"
     ]
    },
    {
     "name": "stdout",
     "output_type": "stream",
     "text": [
      "33/77\n"
     ]
    },
    {
     "name": "stderr",
     "output_type": "stream",
     "text": [
      "/home/user/anaconda3/envs/env310/lib/python3.10/site-packages/sklearn/linear_model/_coordinate_descent.py:631: ConvergenceWarning: Objective did not converge. You might want to increase the number of iterations, check the scale of the features or consider increasing regularisation. Duality gap: 2.834e+08, tolerance: 9.886e+04\n",
      "  model = cd_fast.enet_coordinate_descent(\n",
      "/home/user/dev/CodeAcademyBerlin-04-bike-share/bike_regression.py:70: DataConversionWarning: A column-vector y was passed when a 1d array was expected. Please change the shape of y to (n_samples, ), for example using ravel().\n",
      "  self.y_train = column_or_1d(self.y_train, warn=True)\n",
      "/home/user/dev/CodeAcademyBerlin-04-bike-share/bike_regression.py:71: DataConversionWarning: A column-vector y was passed when a 1d array was expected. Please change the shape of y to (n_samples, ), for example using ravel().\n",
      "  self.y_test = column_or_1d(self.y_test, warn=True)\n"
     ]
    },
    {
     "name": "stdout",
     "output_type": "stream",
     "text": [
      "34/77\n"
     ]
    },
    {
     "name": "stderr",
     "output_type": "stream",
     "text": [
      "/home/user/anaconda3/envs/env310/lib/python3.10/site-packages/sklearn/linear_model/_coordinate_descent.py:631: ConvergenceWarning: Objective did not converge. You might want to increase the number of iterations, check the scale of the features or consider increasing regularisation. Duality gap: 2.802e+08, tolerance: 9.886e+04\n",
      "  model = cd_fast.enet_coordinate_descent(\n",
      "/home/user/dev/CodeAcademyBerlin-04-bike-share/bike_regression.py:70: DataConversionWarning: A column-vector y was passed when a 1d array was expected. Please change the shape of y to (n_samples, ), for example using ravel().\n",
      "  self.y_train = column_or_1d(self.y_train, warn=True)\n",
      "/home/user/dev/CodeAcademyBerlin-04-bike-share/bike_regression.py:71: DataConversionWarning: A column-vector y was passed when a 1d array was expected. Please change the shape of y to (n_samples, ), for example using ravel().\n",
      "  self.y_test = column_or_1d(self.y_test, warn=True)\n"
     ]
    },
    {
     "name": "stdout",
     "output_type": "stream",
     "text": [
      "35/77\n",
      "36/77\n"
     ]
    },
    {
     "name": "stderr",
     "output_type": "stream",
     "text": [
      "/home/user/dev/CodeAcademyBerlin-04-bike-share/bike_regression.py:70: DataConversionWarning: A column-vector y was passed when a 1d array was expected. Please change the shape of y to (n_samples, ), for example using ravel().\n",
      "  self.y_train = column_or_1d(self.y_train, warn=True)\n",
      "/home/user/dev/CodeAcademyBerlin-04-bike-share/bike_regression.py:71: DataConversionWarning: A column-vector y was passed when a 1d array was expected. Please change the shape of y to (n_samples, ), for example using ravel().\n",
      "  self.y_test = column_or_1d(self.y_test, warn=True)\n",
      "/home/user/dev/CodeAcademyBerlin-04-bike-share/bike_regression.py:70: DataConversionWarning: A column-vector y was passed when a 1d array was expected. Please change the shape of y to (n_samples, ), for example using ravel().\n",
      "  self.y_train = column_or_1d(self.y_train, warn=True)\n",
      "/home/user/dev/CodeAcademyBerlin-04-bike-share/bike_regression.py:71: DataConversionWarning: A column-vector y was passed when a 1d array was expected. Please change the shape of y to (n_samples, ), for example using ravel().\n",
      "  self.y_test = column_or_1d(self.y_test, warn=True)\n"
     ]
    },
    {
     "name": "stdout",
     "output_type": "stream",
     "text": [
      "37/77\n",
      "38/77\n"
     ]
    },
    {
     "name": "stderr",
     "output_type": "stream",
     "text": [
      "/home/user/dev/CodeAcademyBerlin-04-bike-share/bike_regression.py:70: DataConversionWarning: A column-vector y was passed when a 1d array was expected. Please change the shape of y to (n_samples, ), for example using ravel().\n",
      "  self.y_train = column_or_1d(self.y_train, warn=True)\n",
      "/home/user/dev/CodeAcademyBerlin-04-bike-share/bike_regression.py:71: DataConversionWarning: A column-vector y was passed when a 1d array was expected. Please change the shape of y to (n_samples, ), for example using ravel().\n",
      "  self.y_test = column_or_1d(self.y_test, warn=True)\n",
      "/home/user/dev/CodeAcademyBerlin-04-bike-share/bike_regression.py:70: DataConversionWarning: A column-vector y was passed when a 1d array was expected. Please change the shape of y to (n_samples, ), for example using ravel().\n",
      "  self.y_train = column_or_1d(self.y_train, warn=True)\n",
      "/home/user/dev/CodeAcademyBerlin-04-bike-share/bike_regression.py:71: DataConversionWarning: A column-vector y was passed when a 1d array was expected. Please change the shape of y to (n_samples, ), for example using ravel().\n",
      "  self.y_test = column_or_1d(self.y_test, warn=True)\n"
     ]
    },
    {
     "name": "stdout",
     "output_type": "stream",
     "text": [
      "39/77\n",
      "40/77\n"
     ]
    },
    {
     "name": "stderr",
     "output_type": "stream",
     "text": [
      "/home/user/dev/CodeAcademyBerlin-04-bike-share/bike_regression.py:70: DataConversionWarning: A column-vector y was passed when a 1d array was expected. Please change the shape of y to (n_samples, ), for example using ravel().\n",
      "  self.y_train = column_or_1d(self.y_train, warn=True)\n",
      "/home/user/dev/CodeAcademyBerlin-04-bike-share/bike_regression.py:71: DataConversionWarning: A column-vector y was passed when a 1d array was expected. Please change the shape of y to (n_samples, ), for example using ravel().\n",
      "  self.y_test = column_or_1d(self.y_test, warn=True)\n"
     ]
    },
    {
     "name": "stdout",
     "output_type": "stream",
     "text": [
      "41/77\n"
     ]
    },
    {
     "name": "stderr",
     "output_type": "stream",
     "text": [
      "/home/user/dev/CodeAcademyBerlin-04-bike-share/bike_regression.py:70: DataConversionWarning: A column-vector y was passed when a 1d array was expected. Please change the shape of y to (n_samples, ), for example using ravel().\n",
      "  self.y_train = column_or_1d(self.y_train, warn=True)\n",
      "/home/user/dev/CodeAcademyBerlin-04-bike-share/bike_regression.py:71: DataConversionWarning: A column-vector y was passed when a 1d array was expected. Please change the shape of y to (n_samples, ), for example using ravel().\n",
      "  self.y_test = column_or_1d(self.y_test, warn=True)\n"
     ]
    },
    {
     "name": "stdout",
     "output_type": "stream",
     "text": [
      "42/77\n"
     ]
    },
    {
     "name": "stderr",
     "output_type": "stream",
     "text": [
      "/home/user/dev/CodeAcademyBerlin-04-bike-share/bike_regression.py:70: DataConversionWarning: A column-vector y was passed when a 1d array was expected. Please change the shape of y to (n_samples, ), for example using ravel().\n",
      "  self.y_train = column_or_1d(self.y_train, warn=True)\n",
      "/home/user/dev/CodeAcademyBerlin-04-bike-share/bike_regression.py:71: DataConversionWarning: A column-vector y was passed when a 1d array was expected. Please change the shape of y to (n_samples, ), for example using ravel().\n",
      "  self.y_test = column_or_1d(self.y_test, warn=True)\n"
     ]
    },
    {
     "name": "stdout",
     "output_type": "stream",
     "text": [
      "43/77\n"
     ]
    },
    {
     "name": "stderr",
     "output_type": "stream",
     "text": [
      "/home/user/dev/CodeAcademyBerlin-04-bike-share/bike_regression.py:70: DataConversionWarning: A column-vector y was passed when a 1d array was expected. Please change the shape of y to (n_samples, ), for example using ravel().\n",
      "  self.y_train = column_or_1d(self.y_train, warn=True)\n",
      "/home/user/dev/CodeAcademyBerlin-04-bike-share/bike_regression.py:71: DataConversionWarning: A column-vector y was passed when a 1d array was expected. Please change the shape of y to (n_samples, ), for example using ravel().\n",
      "  self.y_test = column_or_1d(self.y_test, warn=True)\n"
     ]
    },
    {
     "name": "stdout",
     "output_type": "stream",
     "text": [
      "44/77\n"
     ]
    },
    {
     "name": "stderr",
     "output_type": "stream",
     "text": [
      "/home/user/dev/CodeAcademyBerlin-04-bike-share/bike_regression.py:70: DataConversionWarning: A column-vector y was passed when a 1d array was expected. Please change the shape of y to (n_samples, ), for example using ravel().\n",
      "  self.y_train = column_or_1d(self.y_train, warn=True)\n",
      "/home/user/dev/CodeAcademyBerlin-04-bike-share/bike_regression.py:71: DataConversionWarning: A column-vector y was passed when a 1d array was expected. Please change the shape of y to (n_samples, ), for example using ravel().\n",
      "  self.y_test = column_or_1d(self.y_test, warn=True)\n"
     ]
    },
    {
     "name": "stdout",
     "output_type": "stream",
     "text": [
      "45/77\n"
     ]
    },
    {
     "name": "stderr",
     "output_type": "stream",
     "text": [
      "/home/user/dev/CodeAcademyBerlin-04-bike-share/bike_regression.py:70: DataConversionWarning: A column-vector y was passed when a 1d array was expected. Please change the shape of y to (n_samples, ), for example using ravel().\n",
      "  self.y_train = column_or_1d(self.y_train, warn=True)\n",
      "/home/user/dev/CodeAcademyBerlin-04-bike-share/bike_regression.py:71: DataConversionWarning: A column-vector y was passed when a 1d array was expected. Please change the shape of y to (n_samples, ), for example using ravel().\n",
      "  self.y_test = column_or_1d(self.y_test, warn=True)\n"
     ]
    },
    {
     "name": "stdout",
     "output_type": "stream",
     "text": [
      "46/77\n"
     ]
    },
    {
     "name": "stderr",
     "output_type": "stream",
     "text": [
      "/home/user/dev/CodeAcademyBerlin-04-bike-share/bike_regression.py:70: DataConversionWarning: A column-vector y was passed when a 1d array was expected. Please change the shape of y to (n_samples, ), for example using ravel().\n",
      "  self.y_train = column_or_1d(self.y_train, warn=True)\n",
      "/home/user/dev/CodeAcademyBerlin-04-bike-share/bike_regression.py:71: DataConversionWarning: A column-vector y was passed when a 1d array was expected. Please change the shape of y to (n_samples, ), for example using ravel().\n",
      "  self.y_test = column_or_1d(self.y_test, warn=True)\n"
     ]
    },
    {
     "name": "stdout",
     "output_type": "stream",
     "text": [
      "47/77\n"
     ]
    },
    {
     "name": "stderr",
     "output_type": "stream",
     "text": [
      "/home/user/dev/CodeAcademyBerlin-04-bike-share/bike_regression.py:70: DataConversionWarning: A column-vector y was passed when a 1d array was expected. Please change the shape of y to (n_samples, ), for example using ravel().\n",
      "  self.y_train = column_or_1d(self.y_train, warn=True)\n",
      "/home/user/dev/CodeAcademyBerlin-04-bike-share/bike_regression.py:71: DataConversionWarning: A column-vector y was passed when a 1d array was expected. Please change the shape of y to (n_samples, ), for example using ravel().\n",
      "  self.y_test = column_or_1d(self.y_test, warn=True)\n"
     ]
    },
    {
     "name": "stdout",
     "output_type": "stream",
     "text": [
      "48/77\n"
     ]
    },
    {
     "name": "stderr",
     "output_type": "stream",
     "text": [
      "/home/user/dev/CodeAcademyBerlin-04-bike-share/bike_regression.py:70: DataConversionWarning: A column-vector y was passed when a 1d array was expected. Please change the shape of y to (n_samples, ), for example using ravel().\n",
      "  self.y_train = column_or_1d(self.y_train, warn=True)\n",
      "/home/user/dev/CodeAcademyBerlin-04-bike-share/bike_regression.py:71: DataConversionWarning: A column-vector y was passed when a 1d array was expected. Please change the shape of y to (n_samples, ), for example using ravel().\n",
      "  self.y_test = column_or_1d(self.y_test, warn=True)\n"
     ]
    },
    {
     "name": "stdout",
     "output_type": "stream",
     "text": [
      "49/77\n"
     ]
    },
    {
     "name": "stderr",
     "output_type": "stream",
     "text": [
      "/home/user/dev/CodeAcademyBerlin-04-bike-share/bike_regression.py:70: DataConversionWarning: A column-vector y was passed when a 1d array was expected. Please change the shape of y to (n_samples, ), for example using ravel().\n",
      "  self.y_train = column_or_1d(self.y_train, warn=True)\n",
      "/home/user/dev/CodeAcademyBerlin-04-bike-share/bike_regression.py:71: DataConversionWarning: A column-vector y was passed when a 1d array was expected. Please change the shape of y to (n_samples, ), for example using ravel().\n",
      "  self.y_test = column_or_1d(self.y_test, warn=True)\n"
     ]
    },
    {
     "name": "stdout",
     "output_type": "stream",
     "text": [
      "50/77\n"
     ]
    },
    {
     "name": "stderr",
     "output_type": "stream",
     "text": [
      "/home/user/dev/CodeAcademyBerlin-04-bike-share/bike_regression.py:70: DataConversionWarning: A column-vector y was passed when a 1d array was expected. Please change the shape of y to (n_samples, ), for example using ravel().\n",
      "  self.y_train = column_or_1d(self.y_train, warn=True)\n",
      "/home/user/dev/CodeAcademyBerlin-04-bike-share/bike_regression.py:71: DataConversionWarning: A column-vector y was passed when a 1d array was expected. Please change the shape of y to (n_samples, ), for example using ravel().\n",
      "  self.y_test = column_or_1d(self.y_test, warn=True)\n"
     ]
    },
    {
     "name": "stdout",
     "output_type": "stream",
     "text": [
      "51/77\n"
     ]
    },
    {
     "name": "stderr",
     "output_type": "stream",
     "text": [
      "/home/user/dev/CodeAcademyBerlin-04-bike-share/bike_regression.py:70: DataConversionWarning: A column-vector y was passed when a 1d array was expected. Please change the shape of y to (n_samples, ), for example using ravel().\n",
      "  self.y_train = column_or_1d(self.y_train, warn=True)\n",
      "/home/user/dev/CodeAcademyBerlin-04-bike-share/bike_regression.py:71: DataConversionWarning: A column-vector y was passed when a 1d array was expected. Please change the shape of y to (n_samples, ), for example using ravel().\n",
      "  self.y_test = column_or_1d(self.y_test, warn=True)\n"
     ]
    },
    {
     "name": "stdout",
     "output_type": "stream",
     "text": [
      "52/77\n"
     ]
    },
    {
     "name": "stderr",
     "output_type": "stream",
     "text": [
      "/home/user/dev/CodeAcademyBerlin-04-bike-share/bike_regression.py:70: DataConversionWarning: A column-vector y was passed when a 1d array was expected. Please change the shape of y to (n_samples, ), for example using ravel().\n",
      "  self.y_train = column_or_1d(self.y_train, warn=True)\n",
      "/home/user/dev/CodeAcademyBerlin-04-bike-share/bike_regression.py:71: DataConversionWarning: A column-vector y was passed when a 1d array was expected. Please change the shape of y to (n_samples, ), for example using ravel().\n",
      "  self.y_test = column_or_1d(self.y_test, warn=True)\n"
     ]
    },
    {
     "name": "stdout",
     "output_type": "stream",
     "text": [
      "53/77\n"
     ]
    },
    {
     "name": "stderr",
     "output_type": "stream",
     "text": [
      "/home/user/dev/CodeAcademyBerlin-04-bike-share/bike_regression.py:70: DataConversionWarning: A column-vector y was passed when a 1d array was expected. Please change the shape of y to (n_samples, ), for example using ravel().\n",
      "  self.y_train = column_or_1d(self.y_train, warn=True)\n",
      "/home/user/dev/CodeAcademyBerlin-04-bike-share/bike_regression.py:71: DataConversionWarning: A column-vector y was passed when a 1d array was expected. Please change the shape of y to (n_samples, ), for example using ravel().\n",
      "  self.y_test = column_or_1d(self.y_test, warn=True)\n"
     ]
    },
    {
     "name": "stdout",
     "output_type": "stream",
     "text": [
      "54/77\n"
     ]
    },
    {
     "name": "stderr",
     "output_type": "stream",
     "text": [
      "/home/user/dev/CodeAcademyBerlin-04-bike-share/bike_regression.py:70: DataConversionWarning: A column-vector y was passed when a 1d array was expected. Please change the shape of y to (n_samples, ), for example using ravel().\n",
      "  self.y_train = column_or_1d(self.y_train, warn=True)\n",
      "/home/user/dev/CodeAcademyBerlin-04-bike-share/bike_regression.py:71: DataConversionWarning: A column-vector y was passed when a 1d array was expected. Please change the shape of y to (n_samples, ), for example using ravel().\n",
      "  self.y_test = column_or_1d(self.y_test, warn=True)\n"
     ]
    },
    {
     "name": "stdout",
     "output_type": "stream",
     "text": [
      "55/77\n"
     ]
    },
    {
     "name": "stderr",
     "output_type": "stream",
     "text": [
      "/home/user/dev/CodeAcademyBerlin-04-bike-share/bike_regression.py:70: DataConversionWarning: A column-vector y was passed when a 1d array was expected. Please change the shape of y to (n_samples, ), for example using ravel().\n",
      "  self.y_train = column_or_1d(self.y_train, warn=True)\n",
      "/home/user/dev/CodeAcademyBerlin-04-bike-share/bike_regression.py:71: DataConversionWarning: A column-vector y was passed when a 1d array was expected. Please change the shape of y to (n_samples, ), for example using ravel().\n",
      "  self.y_test = column_or_1d(self.y_test, warn=True)\n"
     ]
    },
    {
     "name": "stdout",
     "output_type": "stream",
     "text": [
      "56/77\n"
     ]
    },
    {
     "name": "stderr",
     "output_type": "stream",
     "text": [
      "/home/user/dev/CodeAcademyBerlin-04-bike-share/bike_regression.py:70: DataConversionWarning: A column-vector y was passed when a 1d array was expected. Please change the shape of y to (n_samples, ), for example using ravel().\n",
      "  self.y_train = column_or_1d(self.y_train, warn=True)\n",
      "/home/user/dev/CodeAcademyBerlin-04-bike-share/bike_regression.py:71: DataConversionWarning: A column-vector y was passed when a 1d array was expected. Please change the shape of y to (n_samples, ), for example using ravel().\n",
      "  self.y_test = column_or_1d(self.y_test, warn=True)\n"
     ]
    },
    {
     "name": "stdout",
     "output_type": "stream",
     "text": [
      "57/77\n"
     ]
    },
    {
     "name": "stderr",
     "output_type": "stream",
     "text": [
      "/home/user/dev/CodeAcademyBerlin-04-bike-share/bike_regression.py:70: DataConversionWarning: A column-vector y was passed when a 1d array was expected. Please change the shape of y to (n_samples, ), for example using ravel().\n",
      "  self.y_train = column_or_1d(self.y_train, warn=True)\n",
      "/home/user/dev/CodeAcademyBerlin-04-bike-share/bike_regression.py:71: DataConversionWarning: A column-vector y was passed when a 1d array was expected. Please change the shape of y to (n_samples, ), for example using ravel().\n",
      "  self.y_test = column_or_1d(self.y_test, warn=True)\n"
     ]
    },
    {
     "name": "stdout",
     "output_type": "stream",
     "text": [
      "58/77\n"
     ]
    },
    {
     "name": "stderr",
     "output_type": "stream",
     "text": [
      "/home/user/dev/CodeAcademyBerlin-04-bike-share/bike_regression.py:70: DataConversionWarning: A column-vector y was passed when a 1d array was expected. Please change the shape of y to (n_samples, ), for example using ravel().\n",
      "  self.y_train = column_or_1d(self.y_train, warn=True)\n",
      "/home/user/dev/CodeAcademyBerlin-04-bike-share/bike_regression.py:71: DataConversionWarning: A column-vector y was passed when a 1d array was expected. Please change the shape of y to (n_samples, ), for example using ravel().\n",
      "  self.y_test = column_or_1d(self.y_test, warn=True)\n"
     ]
    },
    {
     "name": "stdout",
     "output_type": "stream",
     "text": [
      "59/77\n"
     ]
    },
    {
     "name": "stderr",
     "output_type": "stream",
     "text": [
      "/home/user/dev/CodeAcademyBerlin-04-bike-share/bike_regression.py:70: DataConversionWarning: A column-vector y was passed when a 1d array was expected. Please change the shape of y to (n_samples, ), for example using ravel().\n",
      "  self.y_train = column_or_1d(self.y_train, warn=True)\n",
      "/home/user/dev/CodeAcademyBerlin-04-bike-share/bike_regression.py:71: DataConversionWarning: A column-vector y was passed when a 1d array was expected. Please change the shape of y to (n_samples, ), for example using ravel().\n",
      "  self.y_test = column_or_1d(self.y_test, warn=True)\n"
     ]
    },
    {
     "name": "stdout",
     "output_type": "stream",
     "text": [
      "60/77\n"
     ]
    },
    {
     "name": "stderr",
     "output_type": "stream",
     "text": [
      "/home/user/dev/CodeAcademyBerlin-04-bike-share/bike_regression.py:70: DataConversionWarning: A column-vector y was passed when a 1d array was expected. Please change the shape of y to (n_samples, ), for example using ravel().\n",
      "  self.y_train = column_or_1d(self.y_train, warn=True)\n",
      "/home/user/dev/CodeAcademyBerlin-04-bike-share/bike_regression.py:71: DataConversionWarning: A column-vector y was passed when a 1d array was expected. Please change the shape of y to (n_samples, ), for example using ravel().\n",
      "  self.y_test = column_or_1d(self.y_test, warn=True)\n"
     ]
    },
    {
     "name": "stdout",
     "output_type": "stream",
     "text": [
      "61/77\n"
     ]
    },
    {
     "name": "stderr",
     "output_type": "stream",
     "text": [
      "/home/user/dev/CodeAcademyBerlin-04-bike-share/bike_regression.py:70: DataConversionWarning: A column-vector y was passed when a 1d array was expected. Please change the shape of y to (n_samples, ), for example using ravel().\n",
      "  self.y_train = column_or_1d(self.y_train, warn=True)\n",
      "/home/user/dev/CodeAcademyBerlin-04-bike-share/bike_regression.py:71: DataConversionWarning: A column-vector y was passed when a 1d array was expected. Please change the shape of y to (n_samples, ), for example using ravel().\n",
      "  self.y_test = column_or_1d(self.y_test, warn=True)\n"
     ]
    },
    {
     "name": "stdout",
     "output_type": "stream",
     "text": [
      "62/77\n"
     ]
    },
    {
     "name": "stderr",
     "output_type": "stream",
     "text": [
      "/home/user/dev/CodeAcademyBerlin-04-bike-share/bike_regression.py:70: DataConversionWarning: A column-vector y was passed when a 1d array was expected. Please change the shape of y to (n_samples, ), for example using ravel().\n",
      "  self.y_train = column_or_1d(self.y_train, warn=True)\n",
      "/home/user/dev/CodeAcademyBerlin-04-bike-share/bike_regression.py:71: DataConversionWarning: A column-vector y was passed when a 1d array was expected. Please change the shape of y to (n_samples, ), for example using ravel().\n",
      "  self.y_test = column_or_1d(self.y_test, warn=True)\n"
     ]
    },
    {
     "name": "stdout",
     "output_type": "stream",
     "text": [
      "63/77\n"
     ]
    },
    {
     "name": "stderr",
     "output_type": "stream",
     "text": [
      "/home/user/dev/CodeAcademyBerlin-04-bike-share/bike_regression.py:70: DataConversionWarning: A column-vector y was passed when a 1d array was expected. Please change the shape of y to (n_samples, ), for example using ravel().\n",
      "  self.y_train = column_or_1d(self.y_train, warn=True)\n",
      "/home/user/dev/CodeAcademyBerlin-04-bike-share/bike_regression.py:71: DataConversionWarning: A column-vector y was passed when a 1d array was expected. Please change the shape of y to (n_samples, ), for example using ravel().\n",
      "  self.y_test = column_or_1d(self.y_test, warn=True)\n"
     ]
    },
    {
     "name": "stdout",
     "output_type": "stream",
     "text": [
      "64/77\n"
     ]
    },
    {
     "name": "stderr",
     "output_type": "stream",
     "text": [
      "/home/user/dev/CodeAcademyBerlin-04-bike-share/bike_regression.py:70: DataConversionWarning: A column-vector y was passed when a 1d array was expected. Please change the shape of y to (n_samples, ), for example using ravel().\n",
      "  self.y_train = column_or_1d(self.y_train, warn=True)\n",
      "/home/user/dev/CodeAcademyBerlin-04-bike-share/bike_regression.py:71: DataConversionWarning: A column-vector y was passed when a 1d array was expected. Please change the shape of y to (n_samples, ), for example using ravel().\n",
      "  self.y_test = column_or_1d(self.y_test, warn=True)\n"
     ]
    },
    {
     "name": "stdout",
     "output_type": "stream",
     "text": [
      "65/77\n"
     ]
    },
    {
     "name": "stderr",
     "output_type": "stream",
     "text": [
      "/home/user/dev/CodeAcademyBerlin-04-bike-share/bike_regression.py:70: DataConversionWarning: A column-vector y was passed when a 1d array was expected. Please change the shape of y to (n_samples, ), for example using ravel().\n",
      "  self.y_train = column_or_1d(self.y_train, warn=True)\n",
      "/home/user/dev/CodeAcademyBerlin-04-bike-share/bike_regression.py:71: DataConversionWarning: A column-vector y was passed when a 1d array was expected. Please change the shape of y to (n_samples, ), for example using ravel().\n",
      "  self.y_test = column_or_1d(self.y_test, warn=True)\n"
     ]
    },
    {
     "name": "stdout",
     "output_type": "stream",
     "text": [
      "66/77\n"
     ]
    },
    {
     "name": "stderr",
     "output_type": "stream",
     "text": [
      "/home/user/dev/CodeAcademyBerlin-04-bike-share/bike_regression.py:70: DataConversionWarning: A column-vector y was passed when a 1d array was expected. Please change the shape of y to (n_samples, ), for example using ravel().\n",
      "  self.y_train = column_or_1d(self.y_train, warn=True)\n",
      "/home/user/dev/CodeAcademyBerlin-04-bike-share/bike_regression.py:71: DataConversionWarning: A column-vector y was passed when a 1d array was expected. Please change the shape of y to (n_samples, ), for example using ravel().\n",
      "  self.y_test = column_or_1d(self.y_test, warn=True)\n"
     ]
    },
    {
     "name": "stdout",
     "output_type": "stream",
     "text": [
      "67/77\n"
     ]
    },
    {
     "name": "stderr",
     "output_type": "stream",
     "text": [
      "/home/user/dev/CodeAcademyBerlin-04-bike-share/bike_regression.py:70: DataConversionWarning: A column-vector y was passed when a 1d array was expected. Please change the shape of y to (n_samples, ), for example using ravel().\n",
      "  self.y_train = column_or_1d(self.y_train, warn=True)\n",
      "/home/user/dev/CodeAcademyBerlin-04-bike-share/bike_regression.py:71: DataConversionWarning: A column-vector y was passed when a 1d array was expected. Please change the shape of y to (n_samples, ), for example using ravel().\n",
      "  self.y_test = column_or_1d(self.y_test, warn=True)\n"
     ]
    },
    {
     "name": "stdout",
     "output_type": "stream",
     "text": [
      "68/77\n"
     ]
    },
    {
     "name": "stderr",
     "output_type": "stream",
     "text": [
      "/home/user/dev/CodeAcademyBerlin-04-bike-share/bike_regression.py:70: DataConversionWarning: A column-vector y was passed when a 1d array was expected. Please change the shape of y to (n_samples, ), for example using ravel().\n",
      "  self.y_train = column_or_1d(self.y_train, warn=True)\n",
      "/home/user/dev/CodeAcademyBerlin-04-bike-share/bike_regression.py:71: DataConversionWarning: A column-vector y was passed when a 1d array was expected. Please change the shape of y to (n_samples, ), for example using ravel().\n",
      "  self.y_test = column_or_1d(self.y_test, warn=True)\n"
     ]
    },
    {
     "name": "stdout",
     "output_type": "stream",
     "text": [
      "69/77\n"
     ]
    },
    {
     "name": "stderr",
     "output_type": "stream",
     "text": [
      "/home/user/dev/CodeAcademyBerlin-04-bike-share/bike_regression.py:70: DataConversionWarning: A column-vector y was passed when a 1d array was expected. Please change the shape of y to (n_samples, ), for example using ravel().\n",
      "  self.y_train = column_or_1d(self.y_train, warn=True)\n",
      "/home/user/dev/CodeAcademyBerlin-04-bike-share/bike_regression.py:71: DataConversionWarning: A column-vector y was passed when a 1d array was expected. Please change the shape of y to (n_samples, ), for example using ravel().\n",
      "  self.y_test = column_or_1d(self.y_test, warn=True)\n"
     ]
    },
    {
     "name": "stdout",
     "output_type": "stream",
     "text": [
      "70/77\n"
     ]
    },
    {
     "name": "stderr",
     "output_type": "stream",
     "text": [
      "/home/user/dev/CodeAcademyBerlin-04-bike-share/bike_regression.py:70: DataConversionWarning: A column-vector y was passed when a 1d array was expected. Please change the shape of y to (n_samples, ), for example using ravel().\n",
      "  self.y_train = column_or_1d(self.y_train, warn=True)\n",
      "/home/user/dev/CodeAcademyBerlin-04-bike-share/bike_regression.py:71: DataConversionWarning: A column-vector y was passed when a 1d array was expected. Please change the shape of y to (n_samples, ), for example using ravel().\n",
      "  self.y_test = column_or_1d(self.y_test, warn=True)\n",
      "/home/user/anaconda3/envs/env310/lib/python3.10/site-packages/sklearn/neural_network/_multilayer_perceptron.py:684: ConvergenceWarning: Stochastic Optimizer: Maximum iterations (200) reached and the optimization hasn't converged yet.\n",
      "  warnings.warn(\n",
      "/home/user/dev/CodeAcademyBerlin-04-bike-share/bike_regression.py:70: DataConversionWarning: A column-vector y was passed when a 1d array was expected. Please change the shape of y to (n_samples, ), for example using ravel().\n",
      "  self.y_train = column_or_1d(self.y_train, warn=True)\n",
      "/home/user/dev/CodeAcademyBerlin-04-bike-share/bike_regression.py:71: DataConversionWarning: A column-vector y was passed when a 1d array was expected. Please change the shape of y to (n_samples, ), for example using ravel().\n",
      "  self.y_test = column_or_1d(self.y_test, warn=True)\n"
     ]
    },
    {
     "name": "stdout",
     "output_type": "stream",
     "text": [
      "71/77\n"
     ]
    },
    {
     "name": "stderr",
     "output_type": "stream",
     "text": [
      "/home/user/anaconda3/envs/env310/lib/python3.10/site-packages/sklearn/neural_network/_multilayer_perceptron.py:684: ConvergenceWarning: Stochastic Optimizer: Maximum iterations (200) reached and the optimization hasn't converged yet.\n",
      "  warnings.warn(\n",
      "/home/user/dev/CodeAcademyBerlin-04-bike-share/bike_regression.py:70: DataConversionWarning: A column-vector y was passed when a 1d array was expected. Please change the shape of y to (n_samples, ), for example using ravel().\n",
      "  self.y_train = column_or_1d(self.y_train, warn=True)\n",
      "/home/user/dev/CodeAcademyBerlin-04-bike-share/bike_regression.py:71: DataConversionWarning: A column-vector y was passed when a 1d array was expected. Please change the shape of y to (n_samples, ), for example using ravel().\n",
      "  self.y_test = column_or_1d(self.y_test, warn=True)\n"
     ]
    },
    {
     "name": "stdout",
     "output_type": "stream",
     "text": [
      "72/77\n"
     ]
    },
    {
     "name": "stderr",
     "output_type": "stream",
     "text": [
      "/home/user/anaconda3/envs/env310/lib/python3.10/site-packages/sklearn/neural_network/_multilayer_perceptron.py:684: ConvergenceWarning: Stochastic Optimizer: Maximum iterations (200) reached and the optimization hasn't converged yet.\n",
      "  warnings.warn(\n",
      "/home/user/dev/CodeAcademyBerlin-04-bike-share/bike_regression.py:70: DataConversionWarning: A column-vector y was passed when a 1d array was expected. Please change the shape of y to (n_samples, ), for example using ravel().\n",
      "  self.y_train = column_or_1d(self.y_train, warn=True)\n",
      "/home/user/dev/CodeAcademyBerlin-04-bike-share/bike_regression.py:71: DataConversionWarning: A column-vector y was passed when a 1d array was expected. Please change the shape of y to (n_samples, ), for example using ravel().\n",
      "  self.y_test = column_or_1d(self.y_test, warn=True)\n"
     ]
    },
    {
     "name": "stdout",
     "output_type": "stream",
     "text": [
      "73/77\n"
     ]
    },
    {
     "name": "stderr",
     "output_type": "stream",
     "text": [
      "/home/user/anaconda3/envs/env310/lib/python3.10/site-packages/sklearn/neural_network/_multilayer_perceptron.py:684: ConvergenceWarning: Stochastic Optimizer: Maximum iterations (200) reached and the optimization hasn't converged yet.\n",
      "  warnings.warn(\n",
      "/home/user/dev/CodeAcademyBerlin-04-bike-share/bike_regression.py:70: DataConversionWarning: A column-vector y was passed when a 1d array was expected. Please change the shape of y to (n_samples, ), for example using ravel().\n",
      "  self.y_train = column_or_1d(self.y_train, warn=True)\n",
      "/home/user/dev/CodeAcademyBerlin-04-bike-share/bike_regression.py:71: DataConversionWarning: A column-vector y was passed when a 1d array was expected. Please change the shape of y to (n_samples, ), for example using ravel().\n",
      "  self.y_test = column_or_1d(self.y_test, warn=True)\n"
     ]
    },
    {
     "name": "stdout",
     "output_type": "stream",
     "text": [
      "74/77\n",
      "75/77\n"
     ]
    },
    {
     "name": "stderr",
     "output_type": "stream",
     "text": [
      "/home/user/dev/CodeAcademyBerlin-04-bike-share/bike_regression.py:70: DataConversionWarning: A column-vector y was passed when a 1d array was expected. Please change the shape of y to (n_samples, ), for example using ravel().\n",
      "  self.y_train = column_or_1d(self.y_train, warn=True)\n",
      "/home/user/dev/CodeAcademyBerlin-04-bike-share/bike_regression.py:71: DataConversionWarning: A column-vector y was passed when a 1d array was expected. Please change the shape of y to (n_samples, ), for example using ravel().\n",
      "  self.y_test = column_or_1d(self.y_test, warn=True)\n"
     ]
    },
    {
     "name": "stdout",
     "output_type": "stream",
     "text": [
      "76/77\n"
     ]
    },
    {
     "name": "stderr",
     "output_type": "stream",
     "text": [
      "/home/user/dev/CodeAcademyBerlin-04-bike-share/bike_regression.py:70: DataConversionWarning: A column-vector y was passed when a 1d array was expected. Please change the shape of y to (n_samples, ), for example using ravel().\n",
      "  self.y_train = column_or_1d(self.y_train, warn=True)\n",
      "/home/user/dev/CodeAcademyBerlin-04-bike-share/bike_regression.py:71: DataConversionWarning: A column-vector y was passed when a 1d array was expected. Please change the shape of y to (n_samples, ), for example using ravel().\n",
      "  self.y_test = column_or_1d(self.y_test, warn=True)\n"
     ]
    },
    {
     "name": "stdout",
     "output_type": "stream",
     "text": [
      "77/77\n"
     ]
    },
    {
     "data": {
      "text/plain": "{'LinearRegression': {0: 77744.47729875808,\n  1: 77744.47729875808,\n  2: 58194.79603341447,\n  3: 51515.04289118612,\n  4: 50377.92186611569,\n  5: 47685.976120025436,\n  6: 44214.42466886037},\n 'Ridge': {0: 77744.47625609403,\n  1: 77744.47625609403,\n  2: 58194.69038831912,\n  3: 51515.10031455968,\n  4: 50376.73336960058,\n  5: 47686.03751448176,\n  6: 44218.14289216027},\n 'BayesianRidge': {0: 77743.56584337186,\n  1: 77743.56584337186,\n  2: 58192.04222847715,\n  3: 51558.603271796426,\n  4: 50502.04275579226,\n  5: 47980.700105625656,\n  6: 47869.692561167794},\n 'Lasso': {0: 77739.58984978338,\n  1: 77739.58984978338,\n  2: 58198.447912908545,\n  3: 51746.8720535894,\n  4: 50877.007943452685,\n  5: 50472.58538676317,\n  6: 49986.51098633778},\n 'ElasticNet': {0: 77738.88236159185,\n  1: 77738.88236159185,\n  2: 59961.10676155942,\n  3: 51704.661121097306,\n  4: 50863.34525585976,\n  5: 50390.101337742766,\n  6: 49876.00124468962},\n 'DecisionTreeRegressor': {0: 35278.62724139304,\n  1: 35278.62724139304,\n  2: 35279.02444914767,\n  3: 35279.02444914767,\n  4: 35278.7469921911,\n  5: 35278.74621993005,\n  6: 35278.756562437426},\n 'RandomForestRegressor': {0: 34648.27396877243,\n  1: 34762.32609332435,\n  2: 34797.467128235665,\n  3: 34741.12229993628,\n  4: 34799.75329932317,\n  5: 34754.145437468076,\n  6: 34839.160204886735},\n 'GradientBoostingRegressor': {0: 30973.513326706445,\n  1: 30973.513326706438,\n  2: 30590.756803463675,\n  3: 30702.529693123168,\n  4: 30748.91572169403,\n  5: 30580.64420481641,\n  6: 30757.47747346505},\n 'SVR': {0: 61687.20406437129,\n  1: 61687.20406437129,\n  2: 61940.4720538573,\n  3: 63939.00357044689,\n  4: 67774.9071825277,\n  5: 71345.14993419859,\n  6: 75356.8276404643},\n 'KNeighborsRegressor': {0: 35108.35240014524,\n  1: 35108.35240014524,\n  2: 34667.700201525055,\n  3: 34692.152996550474,\n  4: 34805.21057643428,\n  5: 34834.534254720405,\n  6: 34826.37173838054},\n 'MLPRegressor': {0: 58777.15139028435,\n  1: 60887.39081116119,\n  2: 41299.12069606706,\n  3: 35892.59631386884,\n  4: 45426.5309926802,\n  5: 52138242.41697807,\n  6: 212154379.76448724}}"
     },
     "metadata": {},
     "output_type": "display_data"
    }
   ],
   "source": [
    "from bike_regression import SKBikeRegression\n",
    "\n",
    "# algo = 'LinearRegression'\n",
    "# algo = 'Ridge'\n",
    "# algo = 'Lasso'\n",
    "# algo = 'ElasticNet'\n",
    "#algo = 'BayesianRidge'\n",
    "\n",
    "\n",
    "i = 1\n",
    "cnt = 7 * len(SKBikeRegression.algos)\n",
    "mses = {}\n",
    "for alg in SKBikeRegression.algos:\n",
    "    for poly_degree in range(7):\n",
    "        reg = SKBikeRegression(\n",
    "            'data/capital-bike-share-2010-2023-grouped.csv',\n",
    "            ['hour', 'month', 'weekday_nr'],\n",
    "            ['total_trips'],\n",
    "            alg,\n",
    "            poly_degree\n",
    "        )\n",
    "        reg.split()\n",
    "        reg.train()\n",
    "        mse = reg.evaluate()\n",
    "\n",
    "        if alg not in mses:\n",
    "           mses[alg] = {}\n",
    "\n",
    "        mses[alg][poly_degree] = mse\n",
    "\n",
    "        print(f'{i}/{cnt}')\n",
    "        i += 1\n",
    "\n",
    "display(mses)"
   ],
   "metadata": {
    "collapsed": false
   }
  },
  {
   "cell_type": "code",
   "execution_count": 204,
   "outputs": [],
   "source": [],
   "metadata": {
    "collapsed": false
   }
  }
 ],
 "metadata": {
  "kernelspec": {
   "display_name": "Python 3",
   "language": "python",
   "name": "python3"
  },
  "language_info": {
   "codemirror_mode": {
    "name": "ipython",
    "version": 2
   },
   "file_extension": ".py",
   "mimetype": "text/x-python",
   "name": "python",
   "nbconvert_exporter": "python",
   "pygments_lexer": "ipython2",
   "version": "2.7.6"
  }
 },
 "nbformat": 4,
 "nbformat_minor": 0
}
