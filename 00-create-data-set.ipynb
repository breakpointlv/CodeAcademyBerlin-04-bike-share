{
 "cells": [
  {
   "cell_type": "code",
   "execution_count": 1,
   "metadata": {
    "collapsed": true
   },
   "outputs": [],
   "source": [
    "%load_ext autoreload\n",
    "%autoreload 2\n",
    "import numpy as np\n",
    "import pandas as pd\n",
    "import seaborn as sns\n",
    "from giant_bike_ds import GiantBikeDS\n",
    "import matplotlib.pyplot as plt\n",
    "from ipywidgets import IntProgress"
   ]
  },
  {
   "cell_type": "code",
   "execution_count": 21,
   "outputs": [],
   "source": [
    "ds_dir = 'data/bike-share-data'\n",
    "weather_ds_path = 'data/weather.csv'\n",
    "output_file_path =  'data/capital-bike-share-2010-2023-no-text-fields.csv'"
   ],
   "metadata": {
    "collapsed": false
   }
  },
  {
   "cell_type": "code",
   "execution_count": 23,
   "outputs": [
    {
     "name": "stdout",
     "output_type": "stream",
     "text": [
      "1/88:  2010-capitalbikeshare-tripdata.csv\n",
      "2/88:  2011-capitalbikeshare-tripdata.csv\n",
      "3/88:  2012Q1-capitalbikeshare-tripdata.csv\n",
      "4/88:  2012Q2-capitalbikeshare-tripdata.csv\n",
      "5/88:  2012Q3-capitalbikeshare-tripdata.csv\n",
      "6/88:  2012Q4-capitalbikeshare-tripdata.csv\n",
      "7/88:  2013Q1-capitalbikeshare-tripdata.csv\n",
      "8/88:  2013Q2-capitalbikeshare-tripdata.csv\n",
      "9/88:  2013Q3-capitalbikeshare-tripdata.csv\n",
      "10/88:  2013Q4-capitalbikeshare-tripdata.csv\n",
      "11/88:  2014Q1-capitalbikeshare-tripdata.csv\n",
      "12/88:  2014Q2-capitalbikeshare-tripdata.csv\n",
      "13/88:  2014Q3-capitalbikeshare-tripdata.csv\n",
      "14/88:  2014Q4-capitalbikeshare-tripdata.csv\n",
      "15/88:  2015Q1-capitalbikeshare-tripdata.csv\n",
      "16/88:  2015Q2-capitalbikeshare-tripdata.csv\n",
      "17/88:  2015Q3-capitalbikeshare-tripdata.csv\n",
      "18/88:  2015Q4-capitalbikeshare-tripdata.csv\n",
      "19/88:  2016Q1-capitalbikeshare-tripdata.csv\n",
      "20/88:  2016Q2-capitalbikeshare-tripdata.csv\n",
      "21/88:  2016Q3-capitalbikeshare-tripdata.csv\n",
      "22/88:  2016Q4-capitalbikeshare-tripdata.csv\n",
      "23/88:  2017Q1-capitalbikeshare-tripdata.csv\n",
      "24/88:  2017Q2-capitalbikeshare-tripdata.csv\n",
      "25/88:  2017Q3-capitalbikeshare-tripdata.csv\n",
      "26/88:  2017Q4-capitalbikeshare-tripdata.csv\n",
      "27/88:  201801_capitalbikeshare_tripdata.csv\n",
      "28/88:  201802-capitalbikeshare-tripdata.csv\n",
      "29/88:  201803-capitalbikeshare-tripdata.csv\n",
      "30/88:  201804-capitalbikeshare-tripdata.csv\n",
      "31/88:  201805-capitalbikeshare-tripdata.csv\n",
      "32/88:  201806-capitalbikeshare-tripdata.csv\n",
      "33/88:  201807-capitalbikeshare-tripdata.csv\n",
      "34/88:  201808-capitalbikeshare-tripdata.csv\n",
      "35/88:  201809-capitalbikeshare-tripdata.csv\n",
      "36/88:  201810-capitalbikeshare-tripdata.csv\n",
      "37/88:  201811-capitalbikeshare-tripdata.csv\n",
      "38/88:  201812-capitalbikeshare-tripdata.csv\n",
      "39/88:  201901-capitalbikeshare-tripdata.csv\n",
      "40/88:  201902-capitalbikeshare-tripdata.csv\n",
      "41/88:  201903-capitalbikeshare-tripdata.csv\n",
      "42/88:  201904-capitalbikeshare-tripdata.csv\n",
      "43/88:  201905-capitalbikeshare-tripdata.csv\n",
      "44/88:  201906-capitalbikeshare-tripdata.csv\n",
      "45/88:  201907-capitalbikeshare-tripdata.csv\n",
      "46/88:  201908-capitalbikeshare-tripdata.csv\n",
      "47/88:  201909-capitalbikeshare-tripdata.csv\n",
      "48/88:  201910-capitalbikeshare-tripdata.csv\n",
      "49/88:  201911-capitalbikeshare-tripdata.csv\n",
      "50/88:  201912-capitalbikeshare-tripdata.csv\n",
      "51/88:  202001-capitalbikeshare-tripdata.csv\n",
      "52/88:  202002-capitalbikeshare-tripdata.csv\n",
      "53/88:  202003-capitalbikeshare-tripdata.csv\n",
      "54/88:  202004-capitalbikeshare-tripdata.csv\n",
      "55/88:  202005-capitalbikeshare-tripdata.csv\n",
      "56/88:  202006-capitalbikeshare-tripdata.csv\n",
      "57/88:  202007-capitalbikeshare-tripdata.csv\n",
      "58/88:  202008-capitalbikeshare-tripdata.csv\n",
      "59/88:  202009-capitalbikeshare-tripdata.csv\n",
      "60/88:  202010-capitalbikeshare-tripdata.csv\n",
      "61/88:  202011-capitalbikeshare-tripdata.csv\n",
      "62/88:  202012-capitalbikeshare-tripdata.csv\n",
      "63/88:  202101-capitalbikeshare-tripdata.csv\n",
      "64/88:  202102-capitalbikeshare-tripdata.csv\n",
      "65/88:  202103-capitalbikeshare-tripdata.csv\n",
      "66/88:  202104-capitalbikeshare-tripdata.csv\n",
      "67/88:  202105-capitalbikeshare-tripdata.csv\n",
      "68/88:  202106-capitalbikeshare-tripdata.csv\n",
      "69/88:  202107-capitalbikeshare-tripdata.csv\n",
      "70/88:  202108-capitalbikeshare-tripdata.csv\n",
      "71/88:  202109-capitalbikeshare-tripdata.csv\n",
      "72/88:  202110-capitalbikeshare-tripdata.csv\n",
      "73/88:  202111-capitalbikeshare-tripdata.csv\n",
      "74/88:  202112-capitalbikeshare-tripdata.csv\n",
      "75/88:  202201-capitalbikeshare-tripdata.csv\n",
      "76/88:  202202-capitalbikeshare-tripdata.csv\n",
      "77/88:  202203-capitalbikeshare-tripdata.csv\n",
      "78/88:  202204-capitalbikeshare-tripdata.csv\n",
      "79/88:  202205-capitalbikeshare-tripdata.csv\n",
      "80/88:  202206-capitalbikeshare-tripdata.csv\n",
      "81/88:  202207-capitalbikeshare-tripdata.csv\n",
      "82/88:  202208-capitalbikeshare-tripdata.csv\n",
      "83/88:  202209-capitalbikeshare-tripdata.csv\n",
      "84/88:  202210-capitalbikeshare-tripdata.csv\n",
      "85/88:  202211-capitalbikeshare-tripdata.csv\n",
      "86/88:  202212-capitalbikeshare-tripdata.csv\n",
      "87/88:  202301-capitalbikeshare-tripdata.csv\n",
      "88/88:  202302-captialbikeshare-tripdata.csv\n"
     ]
    },
    {
     "data": {
      "text/plain": "{'process_line': 0,\n 'print_line': 0,\n 'process_ride': 0,\n 'process_additional': 0,\n 'process_weather': 0}"
     },
     "metadata": {},
     "output_type": "display_data"
    }
   ],
   "source": [
    "bds = GiantBikeDS(ds_dir, weather_ds_path, output_file_path, do_profile=False)\n",
    "\n",
    "bds.init_output_csv()\n",
    "\n",
    "file_cnt = len(bds.files)\n",
    "n = 1\n",
    "for fl in bds.files:\n",
    "    print(f\"{n}/{file_cnt}: \",fl)\n",
    "    bds.add_bike_share_ds(fl, show_progress=False)\n",
    "    n += 1\n",
    "bds.close_output_csv()\n",
    "\n",
    "display(bds.ex_times)"
   ],
   "metadata": {
    "collapsed": false
   }
  },
  {
   "cell_type": "code",
   "execution_count": null,
   "outputs": [],
   "source": [],
   "metadata": {
    "collapsed": false
   }
  },
  {
   "cell_type": "code",
   "execution_count": null,
   "outputs": [],
   "source": [],
   "metadata": {
    "collapsed": false
   }
  }
 ],
 "metadata": {
  "kernelspec": {
   "display_name": "Python 3",
   "language": "python",
   "name": "python3"
  },
  "language_info": {
   "codemirror_mode": {
    "name": "ipython",
    "version": 2
   },
   "file_extension": ".py",
   "mimetype": "text/x-python",
   "name": "python",
   "nbconvert_exporter": "python",
   "pygments_lexer": "ipython2",
   "version": "2.7.6"
  }
 },
 "nbformat": 4,
 "nbformat_minor": 0
}
