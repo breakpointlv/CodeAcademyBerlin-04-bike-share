{
 "cells": [
  {
   "cell_type": "code",
   "execution_count": 1,
   "metadata": {
    "collapsed": true
   },
   "outputs": [],
   "source": [
    "%load_ext autoreload\n",
    "%autoreload 2\n",
    "import numpy as np\n",
    "import pandas as pd\n",
    "import seaborn as sns\n",
    "from giant_bike_ds import GiantBikeDS\n",
    "import matplotlib.pyplot as plt\n",
    "from ipywidgets import IntProgress"
   ]
  },
  {
   "cell_type": "code",
   "execution_count": 12,
   "outputs": [],
   "source": [
    "ds_dir = 'data/bike-share-data'\n",
    "weather_ds_path = 'data/weather.csv'\n",
    "output_file_path =  'data/capital-bike-share-2010-2023-reduced.csv'\n",
    "weather_file_path =  'data/capital-bike-share-2010-2023-grouped.csv'\n",
    "bike_number_file_path =  'data/capital-bike-share-2010-2023-bike-numbers.csv'"
   ],
   "metadata": {
    "collapsed": false
   }
  },
  {
   "cell_type": "code",
   "execution_count": 21,
   "outputs": [
    {
     "name": "stdout",
     "output_type": "stream",
     "text": [
      "1/88:  2010-capitalbikeshare-tripdata.csv\n",
      "2/88:  2011-capitalbikeshare-tripdata.csv\n",
      "3/88:  2012Q1-capitalbikeshare-tripdata.csv\n",
      "4/88:  2012Q2-capitalbikeshare-tripdata.csv\n",
      "5/88:  2012Q3-capitalbikeshare-tripdata.csv\n",
      "6/88:  2012Q4-capitalbikeshare-tripdata.csv\n",
      "7/88:  2013Q1-capitalbikeshare-tripdata.csv\n",
      "8/88:  2013Q2-capitalbikeshare-tripdata.csv\n",
      "9/88:  2013Q3-capitalbikeshare-tripdata.csv\n",
      "10/88:  2013Q4-capitalbikeshare-tripdata.csv\n",
      "11/88:  2014Q1-capitalbikeshare-tripdata.csv\n",
      "12/88:  2014Q2-capitalbikeshare-tripdata.csv\n",
      "13/88:  2014Q3-capitalbikeshare-tripdata.csv\n",
      "14/88:  2014Q4-capitalbikeshare-tripdata.csv\n",
      "15/88:  2015Q1-capitalbikeshare-tripdata.csv\n",
      "16/88:  2015Q2-capitalbikeshare-tripdata.csv\n",
      "17/88:  2015Q3-capitalbikeshare-tripdata.csv\n",
      "18/88:  2015Q4-capitalbikeshare-tripdata.csv\n",
      "19/88:  2016Q1-capitalbikeshare-tripdata.csv\n",
      "20/88:  2016Q2-capitalbikeshare-tripdata.csv\n",
      "21/88:  2016Q3-capitalbikeshare-tripdata.csv\n",
      "22/88:  2016Q4-capitalbikeshare-tripdata.csv\n",
      "23/88:  2017Q1-capitalbikeshare-tripdata.csv\n",
      "24/88:  2017Q2-capitalbikeshare-tripdata.csv\n",
      "25/88:  2017Q3-capitalbikeshare-tripdata.csv\n",
      "26/88:  2017Q4-capitalbikeshare-tripdata.csv\n",
      "27/88:  201801_capitalbikeshare_tripdata.csv\n",
      "28/88:  201802-capitalbikeshare-tripdata.csv\n",
      "29/88:  201803-capitalbikeshare-tripdata.csv\n",
      "30/88:  201804-capitalbikeshare-tripdata.csv\n",
      "31/88:  201805-capitalbikeshare-tripdata.csv\n",
      "32/88:  201806-capitalbikeshare-tripdata.csv\n",
      "33/88:  201807-capitalbikeshare-tripdata.csv\n",
      "34/88:  201808-capitalbikeshare-tripdata.csv\n",
      "35/88:  201809-capitalbikeshare-tripdata.csv\n",
      "36/88:  201810-capitalbikeshare-tripdata.csv\n",
      "37/88:  201811-capitalbikeshare-tripdata.csv\n",
      "38/88:  201812-capitalbikeshare-tripdata.csv\n",
      "39/88:  201901-capitalbikeshare-tripdata.csv\n",
      "40/88:  201902-capitalbikeshare-tripdata.csv\n",
      "41/88:  201903-capitalbikeshare-tripdata.csv\n",
      "42/88:  201904-capitalbikeshare-tripdata.csv\n",
      "43/88:  201905-capitalbikeshare-tripdata.csv\n",
      "44/88:  201906-capitalbikeshare-tripdata.csv\n",
      "45/88:  201907-capitalbikeshare-tripdata.csv\n",
      "46/88:  201908-capitalbikeshare-tripdata.csv\n",
      "47/88:  201909-capitalbikeshare-tripdata.csv\n",
      "48/88:  201910-capitalbikeshare-tripdata.csv\n",
      "49/88:  201911-capitalbikeshare-tripdata.csv\n",
      "50/88:  201912-capitalbikeshare-tripdata.csv\n",
      "51/88:  202001-capitalbikeshare-tripdata.csv\n",
      "52/88:  202002-capitalbikeshare-tripdata.csv\n",
      "53/88:  202003-capitalbikeshare-tripdata.csv\n",
      "54/88:  202004-capitalbikeshare-tripdata.csv\n",
      "55/88:  202005-capitalbikeshare-tripdata.csv\n",
      "56/88:  202006-capitalbikeshare-tripdata.csv\n",
      "57/88:  202007-capitalbikeshare-tripdata.csv\n",
      "58/88:  202008-capitalbikeshare-tripdata.csv\n",
      "59/88:  202009-capitalbikeshare-tripdata.csv\n",
      "60/88:  202010-capitalbikeshare-tripdata.csv\n",
      "61/88:  202011-capitalbikeshare-tripdata.csv\n",
      "62/88:  202012-capitalbikeshare-tripdata.csv\n",
      "63/88:  202101-capitalbikeshare-tripdata.csv\n",
      "64/88:  202102-capitalbikeshare-tripdata.csv\n",
      "65/88:  202103-capitalbikeshare-tripdata.csv\n",
      "66/88:  202104-capitalbikeshare-tripdata.csv\n",
      "67/88:  202105-capitalbikeshare-tripdata.csv\n",
      "68/88:  202106-capitalbikeshare-tripdata.csv\n",
      "69/88:  202107-capitalbikeshare-tripdata.csv\n",
      "70/88:  202108-capitalbikeshare-tripdata.csv\n",
      "71/88:  202109-capitalbikeshare-tripdata.csv\n",
      "72/88:  202110-capitalbikeshare-tripdata.csv\n",
      "73/88:  202111-capitalbikeshare-tripdata.csv\n",
      "74/88:  202112-capitalbikeshare-tripdata.csv\n",
      "75/88:  202201-capitalbikeshare-tripdata.csv\n",
      "76/88:  202202-capitalbikeshare-tripdata.csv\n",
      "77/88:  202203-capitalbikeshare-tripdata.csv\n",
      "78/88:  202204-capitalbikeshare-tripdata.csv\n",
      "79/88:  202205-capitalbikeshare-tripdata.csv\n",
      "80/88:  202206-capitalbikeshare-tripdata.csv\n",
      "81/88:  202207-capitalbikeshare-tripdata.csv\n",
      "82/88:  202208-capitalbikeshare-tripdata.csv\n",
      "83/88:  202209-capitalbikeshare-tripdata.csv\n",
      "84/88:  202210-capitalbikeshare-tripdata.csv\n",
      "85/88:  202211-capitalbikeshare-tripdata.csv\n",
      "86/88:  202212-capitalbikeshare-tripdata.csv\n",
      "87/88:  202301-capitalbikeshare-tripdata.csv\n",
      "88/88:  202302-captialbikeshare-tripdata.csv\n"
     ]
    },
    {
     "data": {
      "text/plain": "                             time  temp  humidity  atemp  pressure  \\\n2010-09-20 00 2010-09-20 00:00:00  11.9      72.0    8.9    1010.6   \n2010-09-20 01 2010-09-20 01:00:00  12.0      77.0    9.3    1010.7   \n2010-09-20 02 2010-09-20 02:00:00  13.4      72.0   10.7    1011.1   \n2010-09-20 03 2010-09-20 03:00:00  14.8      68.0   12.1    1011.0   \n2010-09-20 04 2010-09-20 04:00:00  15.8      65.0   13.1    1010.9   \n2010-09-20 05 2010-09-20 05:00:00  16.6      63.0   13.8    1010.8   \n2010-09-20 06 2010-09-20 06:00:00  16.7      62.0   14.0    1010.3   \n2010-09-20 07 2010-09-20 07:00:00  16.9      62.0   14.1    1010.2   \n2010-09-20 08 2010-09-20 08:00:00  16.9      63.0   14.3    1009.8   \n2010-09-20 09 2010-09-20 09:00:00  16.9      63.0   14.5    1009.4   \n\n               precipitation  rain  snowfall  wmo_code wmo_description  ...  \\\n2010-09-20 00            0.0   0.0       0.0       2.0             dry  ...   \n2010-09-20 01            0.0   0.0       0.0       2.0             dry  ...   \n2010-09-20 02            0.0   0.0       0.0       2.0             dry  ...   \n2010-09-20 03            0.0   0.0       0.0       3.0             dry  ...   \n2010-09-20 04            0.0   0.0       0.0       3.0             dry  ...   \n2010-09-20 05            0.0   0.0       0.0       3.0             dry  ...   \n2010-09-20 06            0.0   0.0       0.0       3.0             dry  ...   \n2010-09-20 07            0.0   0.0       0.0       3.0             dry  ...   \n2010-09-20 08            0.0   0.0       0.0       2.0             dry  ...   \n2010-09-20 09            0.0   0.0       0.0       1.0             dry  ...   \n\n               weekday  month  year season total_trips  casual_trips  \\\n2010-09-20 00   Monday      9  2010      4           0             0   \n2010-09-20 01   Monday      9  2010      4           0             0   \n2010-09-20 02   Monday      9  2010      4           0             0   \n2010-09-20 03   Monday      9  2010      4           0             0   \n2010-09-20 04   Monday      9  2010      4           0             0   \n2010-09-20 05   Monday      9  2010      4           0             0   \n2010-09-20 06   Monday      9  2010      4           0             0   \n2010-09-20 07   Monday      9  2010      4           0             0   \n2010-09-20 08   Monday      9  2010      4           0             0   \n2010-09-20 09   Monday      9  2010      4           0             0   \n\n               member_trips  total_trip_duration  total_member_trip_duration  \\\n2010-09-20 00             0                    0                           0   \n2010-09-20 01             0                    0                           0   \n2010-09-20 02             0                    0                           0   \n2010-09-20 03             0                    0                           0   \n2010-09-20 04             0                    0                           0   \n2010-09-20 05             0                    0                           0   \n2010-09-20 06             0                    0                           0   \n2010-09-20 07             0                    0                           0   \n2010-09-20 08             0                    0                           0   \n2010-09-20 09             0                    0                           0   \n\n               total_casual_trip_duration  \n2010-09-20 00                           0  \n2010-09-20 01                           0  \n2010-09-20 02                           0  \n2010-09-20 03                           0  \n2010-09-20 04                           0  \n2010-09-20 05                           0  \n2010-09-20 06                           0  \n2010-09-20 07                           0  \n2010-09-20 08                           0  \n2010-09-20 09                           0  \n\n[10 rows x 24 columns]",
      "text/html": "<div>\n<style scoped>\n    .dataframe tbody tr th:only-of-type {\n        vertical-align: middle;\n    }\n\n    .dataframe tbody tr th {\n        vertical-align: top;\n    }\n\n    .dataframe thead th {\n        text-align: right;\n    }\n</style>\n<table border=\"1\" class=\"dataframe\">\n  <thead>\n    <tr style=\"text-align: right;\">\n      <th></th>\n      <th>time</th>\n      <th>temp</th>\n      <th>humidity</th>\n      <th>atemp</th>\n      <th>pressure</th>\n      <th>precipitation</th>\n      <th>rain</th>\n      <th>snowfall</th>\n      <th>wmo_code</th>\n      <th>wmo_description</th>\n      <th>...</th>\n      <th>weekday</th>\n      <th>month</th>\n      <th>year</th>\n      <th>season</th>\n      <th>total_trips</th>\n      <th>casual_trips</th>\n      <th>member_trips</th>\n      <th>total_trip_duration</th>\n      <th>total_member_trip_duration</th>\n      <th>total_casual_trip_duration</th>\n    </tr>\n  </thead>\n  <tbody>\n    <tr>\n      <th>2010-09-20 00</th>\n      <td>2010-09-20 00:00:00</td>\n      <td>11.9</td>\n      <td>72.0</td>\n      <td>8.9</td>\n      <td>1010.6</td>\n      <td>0.0</td>\n      <td>0.0</td>\n      <td>0.0</td>\n      <td>2.0</td>\n      <td>dry</td>\n      <td>...</td>\n      <td>Monday</td>\n      <td>9</td>\n      <td>2010</td>\n      <td>4</td>\n      <td>0</td>\n      <td>0</td>\n      <td>0</td>\n      <td>0</td>\n      <td>0</td>\n      <td>0</td>\n    </tr>\n    <tr>\n      <th>2010-09-20 01</th>\n      <td>2010-09-20 01:00:00</td>\n      <td>12.0</td>\n      <td>77.0</td>\n      <td>9.3</td>\n      <td>1010.7</td>\n      <td>0.0</td>\n      <td>0.0</td>\n      <td>0.0</td>\n      <td>2.0</td>\n      <td>dry</td>\n      <td>...</td>\n      <td>Monday</td>\n      <td>9</td>\n      <td>2010</td>\n      <td>4</td>\n      <td>0</td>\n      <td>0</td>\n      <td>0</td>\n      <td>0</td>\n      <td>0</td>\n      <td>0</td>\n    </tr>\n    <tr>\n      <th>2010-09-20 02</th>\n      <td>2010-09-20 02:00:00</td>\n      <td>13.4</td>\n      <td>72.0</td>\n      <td>10.7</td>\n      <td>1011.1</td>\n      <td>0.0</td>\n      <td>0.0</td>\n      <td>0.0</td>\n      <td>2.0</td>\n      <td>dry</td>\n      <td>...</td>\n      <td>Monday</td>\n      <td>9</td>\n      <td>2010</td>\n      <td>4</td>\n      <td>0</td>\n      <td>0</td>\n      <td>0</td>\n      <td>0</td>\n      <td>0</td>\n      <td>0</td>\n    </tr>\n    <tr>\n      <th>2010-09-20 03</th>\n      <td>2010-09-20 03:00:00</td>\n      <td>14.8</td>\n      <td>68.0</td>\n      <td>12.1</td>\n      <td>1011.0</td>\n      <td>0.0</td>\n      <td>0.0</td>\n      <td>0.0</td>\n      <td>3.0</td>\n      <td>dry</td>\n      <td>...</td>\n      <td>Monday</td>\n      <td>9</td>\n      <td>2010</td>\n      <td>4</td>\n      <td>0</td>\n      <td>0</td>\n      <td>0</td>\n      <td>0</td>\n      <td>0</td>\n      <td>0</td>\n    </tr>\n    <tr>\n      <th>2010-09-20 04</th>\n      <td>2010-09-20 04:00:00</td>\n      <td>15.8</td>\n      <td>65.0</td>\n      <td>13.1</td>\n      <td>1010.9</td>\n      <td>0.0</td>\n      <td>0.0</td>\n      <td>0.0</td>\n      <td>3.0</td>\n      <td>dry</td>\n      <td>...</td>\n      <td>Monday</td>\n      <td>9</td>\n      <td>2010</td>\n      <td>4</td>\n      <td>0</td>\n      <td>0</td>\n      <td>0</td>\n      <td>0</td>\n      <td>0</td>\n      <td>0</td>\n    </tr>\n    <tr>\n      <th>2010-09-20 05</th>\n      <td>2010-09-20 05:00:00</td>\n      <td>16.6</td>\n      <td>63.0</td>\n      <td>13.8</td>\n      <td>1010.8</td>\n      <td>0.0</td>\n      <td>0.0</td>\n      <td>0.0</td>\n      <td>3.0</td>\n      <td>dry</td>\n      <td>...</td>\n      <td>Monday</td>\n      <td>9</td>\n      <td>2010</td>\n      <td>4</td>\n      <td>0</td>\n      <td>0</td>\n      <td>0</td>\n      <td>0</td>\n      <td>0</td>\n      <td>0</td>\n    </tr>\n    <tr>\n      <th>2010-09-20 06</th>\n      <td>2010-09-20 06:00:00</td>\n      <td>16.7</td>\n      <td>62.0</td>\n      <td>14.0</td>\n      <td>1010.3</td>\n      <td>0.0</td>\n      <td>0.0</td>\n      <td>0.0</td>\n      <td>3.0</td>\n      <td>dry</td>\n      <td>...</td>\n      <td>Monday</td>\n      <td>9</td>\n      <td>2010</td>\n      <td>4</td>\n      <td>0</td>\n      <td>0</td>\n      <td>0</td>\n      <td>0</td>\n      <td>0</td>\n      <td>0</td>\n    </tr>\n    <tr>\n      <th>2010-09-20 07</th>\n      <td>2010-09-20 07:00:00</td>\n      <td>16.9</td>\n      <td>62.0</td>\n      <td>14.1</td>\n      <td>1010.2</td>\n      <td>0.0</td>\n      <td>0.0</td>\n      <td>0.0</td>\n      <td>3.0</td>\n      <td>dry</td>\n      <td>...</td>\n      <td>Monday</td>\n      <td>9</td>\n      <td>2010</td>\n      <td>4</td>\n      <td>0</td>\n      <td>0</td>\n      <td>0</td>\n      <td>0</td>\n      <td>0</td>\n      <td>0</td>\n    </tr>\n    <tr>\n      <th>2010-09-20 08</th>\n      <td>2010-09-20 08:00:00</td>\n      <td>16.9</td>\n      <td>63.0</td>\n      <td>14.3</td>\n      <td>1009.8</td>\n      <td>0.0</td>\n      <td>0.0</td>\n      <td>0.0</td>\n      <td>2.0</td>\n      <td>dry</td>\n      <td>...</td>\n      <td>Monday</td>\n      <td>9</td>\n      <td>2010</td>\n      <td>4</td>\n      <td>0</td>\n      <td>0</td>\n      <td>0</td>\n      <td>0</td>\n      <td>0</td>\n      <td>0</td>\n    </tr>\n    <tr>\n      <th>2010-09-20 09</th>\n      <td>2010-09-20 09:00:00</td>\n      <td>16.9</td>\n      <td>63.0</td>\n      <td>14.5</td>\n      <td>1009.4</td>\n      <td>0.0</td>\n      <td>0.0</td>\n      <td>0.0</td>\n      <td>1.0</td>\n      <td>dry</td>\n      <td>...</td>\n      <td>Monday</td>\n      <td>9</td>\n      <td>2010</td>\n      <td>4</td>\n      <td>0</td>\n      <td>0</td>\n      <td>0</td>\n      <td>0</td>\n      <td>0</td>\n      <td>0</td>\n    </tr>\n  </tbody>\n</table>\n<p>10 rows × 24 columns</p>\n</div>"
     },
     "metadata": {},
     "output_type": "display_data"
    },
    {
     "data": {
      "text/plain": "        number type  total_trip_count  casual_trip_count  member_trip_count  \\\nW00824  W00824                   4892               1047               3845   \nW00772  W00772                   9036               1930               7106   \nW00886  W00886                   8754               1816               6938   \nW00777  W00777                   9138               1917               7221   \nW00289  W00289                   7795               1570               6225   \nW00491  W00491                   7301               1406               5895   \nW00492  W00492                   6977               1380               5597   \nW00943  W00943                   5526                959               4567   \nW00577  W00577                   8125               1601               6524   \nW01070  W01070                   8545               1744               6801   \n\n        total_duration      first_trip_date       last_trip_date  \nW00824         5186176  2010-09-20 18:15:58  2020-03-04 12:36:25  \nW00772        10113917  2010-09-20 21:45:02  2020-03-28 16:40:42  \nW00886         9974503  2010-09-21 12:09:15  2020-03-29 19:13:48  \nW00777         9851299  2010-09-21 17:46:26  2020-03-30 18:13:44  \nW00289         8261128  2010-09-21 20:57:07  2020-03-27 16:56:17  \nW00491         7437214  2010-09-22 09:12:54  2019-11-26 12:15:26  \nW00492         7758239  2010-09-22 14:28:56  2020-03-13 09:02:36  \nW00943         5838005  2010-09-22 18:23:05  2020-03-29 12:46:13  \nW00577         8719736  2010-09-22 22:35:52  2020-03-31 06:16:43  \nW01070         9338825  2010-09-23 11:40:32  2020-03-22 11:13:37  ",
      "text/html": "<div>\n<style scoped>\n    .dataframe tbody tr th:only-of-type {\n        vertical-align: middle;\n    }\n\n    .dataframe tbody tr th {\n        vertical-align: top;\n    }\n\n    .dataframe thead th {\n        text-align: right;\n    }\n</style>\n<table border=\"1\" class=\"dataframe\">\n  <thead>\n    <tr style=\"text-align: right;\">\n      <th></th>\n      <th>number</th>\n      <th>type</th>\n      <th>total_trip_count</th>\n      <th>casual_trip_count</th>\n      <th>member_trip_count</th>\n      <th>total_duration</th>\n      <th>first_trip_date</th>\n      <th>last_trip_date</th>\n    </tr>\n  </thead>\n  <tbody>\n    <tr>\n      <th>W00824</th>\n      <td>W00824</td>\n      <td></td>\n      <td>4892</td>\n      <td>1047</td>\n      <td>3845</td>\n      <td>5186176</td>\n      <td>2010-09-20 18:15:58</td>\n      <td>2020-03-04 12:36:25</td>\n    </tr>\n    <tr>\n      <th>W00772</th>\n      <td>W00772</td>\n      <td></td>\n      <td>9036</td>\n      <td>1930</td>\n      <td>7106</td>\n      <td>10113917</td>\n      <td>2010-09-20 21:45:02</td>\n      <td>2020-03-28 16:40:42</td>\n    </tr>\n    <tr>\n      <th>W00886</th>\n      <td>W00886</td>\n      <td></td>\n      <td>8754</td>\n      <td>1816</td>\n      <td>6938</td>\n      <td>9974503</td>\n      <td>2010-09-21 12:09:15</td>\n      <td>2020-03-29 19:13:48</td>\n    </tr>\n    <tr>\n      <th>W00777</th>\n      <td>W00777</td>\n      <td></td>\n      <td>9138</td>\n      <td>1917</td>\n      <td>7221</td>\n      <td>9851299</td>\n      <td>2010-09-21 17:46:26</td>\n      <td>2020-03-30 18:13:44</td>\n    </tr>\n    <tr>\n      <th>W00289</th>\n      <td>W00289</td>\n      <td></td>\n      <td>7795</td>\n      <td>1570</td>\n      <td>6225</td>\n      <td>8261128</td>\n      <td>2010-09-21 20:57:07</td>\n      <td>2020-03-27 16:56:17</td>\n    </tr>\n    <tr>\n      <th>W00491</th>\n      <td>W00491</td>\n      <td></td>\n      <td>7301</td>\n      <td>1406</td>\n      <td>5895</td>\n      <td>7437214</td>\n      <td>2010-09-22 09:12:54</td>\n      <td>2019-11-26 12:15:26</td>\n    </tr>\n    <tr>\n      <th>W00492</th>\n      <td>W00492</td>\n      <td></td>\n      <td>6977</td>\n      <td>1380</td>\n      <td>5597</td>\n      <td>7758239</td>\n      <td>2010-09-22 14:28:56</td>\n      <td>2020-03-13 09:02:36</td>\n    </tr>\n    <tr>\n      <th>W00943</th>\n      <td>W00943</td>\n      <td></td>\n      <td>5526</td>\n      <td>959</td>\n      <td>4567</td>\n      <td>5838005</td>\n      <td>2010-09-22 18:23:05</td>\n      <td>2020-03-29 12:46:13</td>\n    </tr>\n    <tr>\n      <th>W00577</th>\n      <td>W00577</td>\n      <td></td>\n      <td>8125</td>\n      <td>1601</td>\n      <td>6524</td>\n      <td>8719736</td>\n      <td>2010-09-22 22:35:52</td>\n      <td>2020-03-31 06:16:43</td>\n    </tr>\n    <tr>\n      <th>W01070</th>\n      <td>W01070</td>\n      <td></td>\n      <td>8545</td>\n      <td>1744</td>\n      <td>6801</td>\n      <td>9338825</td>\n      <td>2010-09-23 11:40:32</td>\n      <td>2020-03-22 11:13:37</td>\n    </tr>\n  </tbody>\n</table>\n</div>"
     },
     "metadata": {},
     "output_type": "display_data"
    },
    {
     "data": {
      "text/plain": "{'process_line': 0,\n 'print_line': 0,\n 'process_ride': 0,\n 'process_additional': 0,\n 'process_weather': 0}"
     },
     "metadata": {},
     "output_type": "display_data"
    }
   ],
   "source": [
    "bds = GiantBikeDS(ds_dir, weather_ds_path, output_file_path, do_profile=False)\n",
    "\n",
    "# bds.init_output_csv()\n",
    "\n",
    "file_cnt = len(bds.files)\n",
    "n = 1\n",
    "for fl in bds.files:\n",
    "    print(f\"{n}/{file_cnt}: \",fl)\n",
    "    bds.add_bike_share_ds(fl, show_progress=False)\n",
    "    n += 1\n",
    "# bds.close_output_csv()\n",
    "bds.save_weather_csv(weather_file_path)\n",
    "bds.save_bike_number_csv(bike_number_file_path)\n",
    "\n",
    "display(bds.ex_times)"
   ],
   "metadata": {
    "collapsed": false
   }
  },
  {
   "cell_type": "code",
   "execution_count": null,
   "outputs": [],
   "source": [],
   "metadata": {
    "collapsed": false
   }
  },
  {
   "cell_type": "code",
   "execution_count": null,
   "outputs": [],
   "source": [],
   "metadata": {
    "collapsed": false
   }
  }
 ],
 "metadata": {
  "kernelspec": {
   "display_name": "Python 3",
   "language": "python",
   "name": "python3"
  },
  "language_info": {
   "codemirror_mode": {
    "name": "ipython",
    "version": 2
   },
   "file_extension": ".py",
   "mimetype": "text/x-python",
   "name": "python",
   "nbconvert_exporter": "python",
   "pygments_lexer": "ipython2",
   "version": "2.7.6"
  }
 },
 "nbformat": 4,
 "nbformat_minor": 0
}
